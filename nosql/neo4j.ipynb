{
 "cells": [
  {
   "cell_type": "code",
   "execution_count": 2,
   "metadata": {},
   "outputs": [],
   "source": [
    "from neo4j import GraphDatabase"
   ]
  },
  {
   "cell_type": "code",
   "execution_count": 3,
   "metadata": {},
   "outputs": [],
   "source": [
    "graph = GraphDatabase.driver(\"bolt://neo4j:7687\")"
   ]
  },
  {
   "cell_type": "code",
   "execution_count": 4,
   "metadata": {},
   "outputs": [],
   "source": [
    "# clear all existing nodes, should use this on a huge database (just delete the graphdb file)\n",
    "with graph.session() as session:\n",
    "    session.run(\"MATCH (n) DETACH DELETE n\")"
   ]
  },
  {
   "cell_type": "markdown",
   "metadata": {},
   "source": [
    "# Create Nodes"
   ]
  },
  {
   "cell_type": "code",
   "execution_count": 5,
   "metadata": {},
   "outputs": [],
   "source": [
    "def create_person(tx, name, email=None):\n",
    "    return tx.run(\"CREATE (a:Person {name:$name, email:$email}) \"\n",
    "                  \"RETURN id(a)\", name=name, email=email).single().value()\n",
    "\n",
    "with graph.session() as session:\n",
    "    # some nodes have extra attributes (e.g. email)\n",
    "    jp_node_id = session.write_transaction(create_person, \"JP\", \"jean.p.ebejer@um.edu.mt\")\n",
    "    matthew_node_id = session.write_transaction(create_person, \"Matthew\")\n",
    "    marc_node_id = session.write_transaction(create_person, \"Marc\")\n",
    "    jasmine_node_id = session.write_transaction(create_person, \"Jasmine\")    "
   ]
  },
  {
   "cell_type": "markdown",
   "metadata": {},
   "source": [
    "# Create Relationships"
   ]
  },
  {
   "cell_type": "code",
   "execution_count": 6,
   "metadata": {},
   "outputs": [],
   "source": [
    "# don't use internal Neo4j IDs  as not reccommended\n",
    "\n",
    "def create_lectures(tx, a_name, b_name):\n",
    "    return tx.run(\"MATCH (a:Person {name: $a_name})\"\n",
    "                  \"MATCH (b:Person {name: $b_name})\"\n",
    "                  \"CREATE (a)-[r:LECTURES]->(b)\"\n",
    "                  \"RETURN type(r)\", a_name=a_name, b_name=b_name).single().value()\n",
    "\n",
    "def create_friends_bidirectional(tx, a_name, b_name, expires=None):\n",
    "    return tx.run(\"MATCH (a:Person {name: $a_name})\"\n",
    "                  \"MATCH (b:Person {name: $b_name})\"\n",
    "                  \"CREATE (a)-[r1:FRIENDS { expires: $expires }]->(b)\"\n",
    "                  \"CREATE (a)<-[r2:FRIENDS { expires: $expires }]-(b)\" # looks silly but create only allows directional\n",
    "                  \"RETURN type(r1)\", a_name=a_name, b_name=b_name, expires=expires).single().value()\n",
    "\n",
    "with graph.session() as session:\n",
    "    session.write_transaction(create_lectures, \"JP\", \"Matthew\")    \n",
    "    session.write_transaction(create_lectures, \"JP\", \"Jasmine\")\n",
    "    session.write_transaction(create_friends_bidirectional, \"Jasmine\", \"Marc\")\n",
    "    session.write_transaction(create_friends_bidirectional, \"Jasmine\", \"Matthew\", \"Jan 2019\")"
   ]
  },
  {
   "cell_type": "markdown",
   "metadata": {},
   "source": [
    "You can have a look at the above graph via your web browser http://localhost:7474/browser/.  There is a helpful [Neo4j Cypher cheatsheet](https://neo4j.com/docs/pdf/neo4j-cypher-refcard-stable.pdf)."
   ]
  },
  {
   "cell_type": "code",
   "execution_count": 7,
   "metadata": {},
   "outputs": [
    {
     "name": "stdout",
     "output_type": "stream",
     "text": [
      "JP\n",
      "Matthew\n",
      "Marc\n",
      "Jasmine\n"
     ]
    }
   ],
   "source": [
    "def get_all_names(tx):\n",
    "    names = []\n",
    "    for record in tx.run(\"MATCH (p:Person) RETURN p.name AS name\"):\n",
    "        print(record['name'])\n",
    "        names.append(record['name'])\n",
    "    return names\n",
    "\n",
    "# Example of the cypher language\n",
    "with graph.session() as session:\n",
    "    session.read_transaction(get_all_names)    "
   ]
  },
  {
   "cell_type": "code",
   "execution_count": 8,
   "metadata": {},
   "outputs": [
    {
     "name": "stdout",
     "output_type": "stream",
     "text": [
      "JP jean.p.ebejer@um.edu.mt\n",
      "dict_keys(['name', 'email'])\n",
      "dict_values(['JP', 'jean.p.ebejer@um.edu.mt'])\n"
     ]
    }
   ],
   "source": [
    "  \n",
    "def match_person_node(tx, name):\n",
    "    result = tx.run(\"MATCH (a:Person {name: $name}) RETURN a\", name=name)\n",
    "    return result.single()[0]\n",
    "\n",
    "with graph.session() as session:\n",
    "    record = session.read_transaction(match_person_node, \"JP\")\n",
    "    print(record['name'], record['email'])\n",
    "    print(record.keys())\n",
    "    print(record.values())"
   ]
  },
  {
   "cell_type": "code",
   "execution_count": 9,
   "metadata": {},
   "outputs": [
    {
     "name": "stdout",
     "output_type": "stream",
     "text": [
      "LECTURES\n",
      "FRIENDS\n"
     ]
    }
   ],
   "source": [
    "with graph.session() as session:\n",
    "    rels = session.run(\"MATCH (n)-[r]-(m) RETURN distinct type(r) as r\")\n",
    "    for r in rels:\n",
    "        print(r['r'])"
   ]
  },
  {
   "cell_type": "code",
   "execution_count": 10,
   "metadata": {},
   "outputs": [
    {
     "name": "stdout",
     "output_type": "stream",
     "text": [
      "JP\n",
      "Matthew\n",
      "Marc\n",
      "Jasmine\n"
     ]
    }
   ],
   "source": [
    "with graph.session() as session:\n",
    "    record = session.run(\"START n=node(*) return n\")\n",
    "    for r in record:\n",
    "        print(r['n']['name'])"
   ]
  },
  {
   "cell_type": "code",
   "execution_count": 11,
   "metadata": {},
   "outputs": [
    {
     "name": "stdout",
     "output_type": "stream",
     "text": [
      "Jasmine\n",
      "Matthew\n"
     ]
    }
   ],
   "source": [
    "with graph.session() as session:\n",
    "    record = session.run(\"MATCH (a:Person)-[:LECTURES]->(s)\"\n",
    "                         \"WHERE a.name = {name} \"\n",
    "                         \"RETURN s.name as name\", name=\"JP\")\n",
    "    for r in record:\n",
    "        print(r['name'])"
   ]
  },
  {
   "cell_type": "code",
   "execution_count": 12,
   "metadata": {},
   "outputs": [
    {
     "name": "stdout",
     "output_type": "stream",
     "text": [
      "Matthew\n",
      "Marc\n"
     ]
    }
   ],
   "source": [
    "# from all of Jasmine friends ...\n",
    "with graph.session() as session:\n",
    "    results = session.run('MATCH (Person { name:\"Jasmine\" })-[:FRIENDS]->(x) RETURN x as jasmine_friend')\n",
    "    for jf in results:\n",
    "        print(jf['jasmine_friend']['name'])"
   ]
  },
  {
   "cell_type": "code",
   "execution_count": 13,
   "metadata": {},
   "outputs": [],
   "source": [
    "# add some more data\n",
    "with graph.session() as session:\n",
    "    # some nodes have extra attributes (e.g. email)\n",
    "    session.write_transaction(create_person, \"Caroline\")\n",
    "    session.write_transaction(create_person, \"Michael\")\n",
    "    session.write_transaction(create_friends_bidirectional, \"Marc\", \"Caroline\")\n",
    "    session.write_transaction(create_friends_bidirectional, \"Caroline\", \"Michael\")\n",
    "    session.write_transaction(create_friends_bidirectional, \"Michael\", \"Matthew\")"
   ]
  },
  {
   "cell_type": "code",
   "execution_count": 14,
   "metadata": {},
   "outputs": [
    {
     "name": "stdout",
     "output_type": "stream",
     "text": [
      "[<Node id=21 labels={'Person'} properties={'name': 'Marc'}>, <Node id=22 labels={'Person'} properties={'name': 'Jasmine'}>, <Node id=20 labels={'Person'} properties={'name': 'Matthew'}>]\n",
      "[<Node id=21 labels={'Person'} properties={'name': 'Marc'}>, <Node id=1 labels={'Person'} properties={'name': 'Caroline'}>, <Node id=2 labels={'Person'} properties={'name': 'Michael'}>, <Node id=20 labels={'Person'} properties={'name': 'Matthew'}>]\n"
     ]
    }
   ],
   "source": [
    "\n",
    "# Find all paths from Marc to Matthew\n",
    "with graph.session() as session:\n",
    "    results = session.run('MATCH p = ((p1:Person { name:\"Marc\" })-[r:FRIENDS*1..]->(p2:Person { name:\"Matthew\" })) '\n",
    "                          'WHERE ALL(x IN NODES(p) WHERE SINGLE(y IN NODES(p) WHERE y = x))'\n",
    "                          'RETURN nodes(p) as nodes, LENGTH(p) as length '\n",
    "                          'ORDER BY length')\n",
    "    for r in results:\n",
    "        print(r['nodes'])    \n",
    "        \n",
    "    "
   ]
  },
  {
   "cell_type": "code",
   "execution_count": 15,
   "metadata": {},
   "outputs": [
    {
     "name": "stdout",
     "output_type": "stream",
     "text": [
      "Marc\n",
      "Jasmine\n",
      "Matthew\n"
     ]
    }
   ],
   "source": [
    "# Find shortest paths from Marc to Matthew\n",
    "with graph.session() as session:\n",
    "    results = session.run('MATCH p = shortestpath((x)-[FRIENDS*1..]->(y)) '\n",
    "                          'WHERE x.name = \"Marc\" AND y.name = \"Matthew\" '\n",
    "                          'RETURN NODES(p) AS n ')\n",
    "    for r in results:\n",
    "        for n in r['n']:\n",
    "            print(n['name'])"
   ]
  },
  {
   "cell_type": "markdown",
   "metadata": {},
   "source": [
    "# Visualization (Attempt)"
   ]
  },
  {
   "cell_type": "code",
   "execution_count": 16,
   "metadata": {},
   "outputs": [
    {
     "name": "stdout",
     "output_type": "stream",
     "text": [
      "JP\n",
      "Caroline\n",
      "Michael\n",
      "Matthew\n",
      "Marc\n",
      "Jasmine\n"
     ]
    },
    {
     "data": {
      "image/svg+xml": [
       "<?xml version=\"1.0\" encoding=\"UTF-8\" standalone=\"no\"?>\n",
       "<!DOCTYPE svg PUBLIC \"-//W3C//DTD SVG 1.1//EN\"\n",
       " \"http://www.w3.org/Graphics/SVG/1.1/DTD/svg11.dtd\">\n",
       "<!-- Generated by graphviz version 2.40.1 (20161225.0304)\n",
       " -->\n",
       "<!-- Title: %3 Pages: 1 -->\n",
       "<svg width=\"192pt\" height=\"404pt\"\n",
       " viewBox=\"0.00 0.00 192.05 404.00\" xmlns=\"http://www.w3.org/2000/svg\" xmlns:xlink=\"http://www.w3.org/1999/xlink\">\n",
       "<g id=\"graph0\" class=\"graph\" transform=\"scale(1 1) rotate(0) translate(4 400)\">\n",
       "<title>%3</title>\n",
       "<polygon fill=\"#ffffff\" stroke=\"transparent\" points=\"-4,4 -4,-400 188.0456,-400 188.0456,4 -4,4\"/>\n",
       "<!-- JP -->\n",
       "<g id=\"node1\" class=\"node\">\n",
       "<title>JP</title>\n",
       "<ellipse fill=\"none\" stroke=\"#000000\" cx=\"147.0456\" cy=\"-378\" rx=\"27\" ry=\"18\"/>\n",
       "<text text-anchor=\"middle\" x=\"147.0456\" y=\"-374.3\" font-family=\"Times,serif\" font-size=\"14.00\" fill=\"#000000\">JP</text>\n",
       "</g>\n",
       "<!-- Matthew -->\n",
       "<g id=\"node4\" class=\"node\">\n",
       "<title>Matthew</title>\n",
       "<ellipse fill=\"none\" stroke=\"#000000\" cx=\"111.0456\" cy=\"-306\" rx=\"44.6926\" ry=\"18\"/>\n",
       "<text text-anchor=\"middle\" x=\"111.0456\" y=\"-302.3\" font-family=\"Times,serif\" font-size=\"14.00\" fill=\"#000000\">Matthew</text>\n",
       "</g>\n",
       "<!-- JP&#45;&gt;Matthew -->\n",
       "<g id=\"edge1\" class=\"edge\">\n",
       "<title>JP&#45;&gt;Matthew</title>\n",
       "<path fill=\"none\" stroke=\"#000000\" d=\"M138.331,-360.5708C134.1919,-352.2927 129.1508,-342.2104 124.5332,-332.9752\"/>\n",
       "<polygon fill=\"#000000\" stroke=\"#000000\" points=\"127.5327,-331.1479 119.93,-323.7689 121.2717,-334.2784 127.5327,-331.1479\"/>\n",
       "</g>\n",
       "<!-- Jasmine -->\n",
       "<g id=\"node6\" class=\"node\">\n",
       "<title>Jasmine</title>\n",
       "<ellipse fill=\"none\" stroke=\"#000000\" cx=\"137.0456\" cy=\"-18\" rx=\"44.6926\" ry=\"18\"/>\n",
       "<text text-anchor=\"middle\" x=\"137.0456\" y=\"-14.3\" font-family=\"Times,serif\" font-size=\"14.00\" fill=\"#000000\">Jasmine</text>\n",
       "</g>\n",
       "<!-- JP&#45;&gt;Jasmine -->\n",
       "<g id=\"edge2\" class=\"edge\">\n",
       "<title>JP&#45;&gt;Jasmine</title>\n",
       "<path fill=\"none\" stroke=\"#000000\" d=\"M154.5331,-360.6355C165.3446,-333.9414 184.0456,-280.978 184.0456,-234 184.0456,-234 184.0456,-234 184.0456,-162 184.0456,-119.421 165.2452,-73.1001 151.4255,-44.8024\"/>\n",
       "<polygon fill=\"#000000\" stroke=\"#000000\" points=\"154.4062,-42.9393 146.784,-35.5805 148.1535,-46.0864 154.4062,-42.9393\"/>\n",
       "</g>\n",
       "<!-- Caroline -->\n",
       "<g id=\"node2\" class=\"node\">\n",
       "<title>Caroline</title>\n",
       "<ellipse fill=\"none\" stroke=\"#000000\" cx=\"50.0456\" cy=\"-162\" rx=\"50.0912\" ry=\"18\"/>\n",
       "<text text-anchor=\"middle\" x=\"50.0456\" y=\"-158.3\" font-family=\"Times,serif\" font-size=\"14.00\" fill=\"#000000\">Caroline</text>\n",
       "</g>\n",
       "<!-- Michael -->\n",
       "<g id=\"node3\" class=\"node\">\n",
       "<title>Michael</title>\n",
       "<ellipse fill=\"none\" stroke=\"#000000\" cx=\"53.0456\" cy=\"-234\" rx=\"44.6926\" ry=\"18\"/>\n",
       "<text text-anchor=\"middle\" x=\"53.0456\" y=\"-230.3\" font-family=\"Times,serif\" font-size=\"14.00\" fill=\"#000000\">Michael</text>\n",
       "</g>\n",
       "<!-- Caroline&#45;&gt;Michael -->\n",
       "<g id=\"edge4\" class=\"edge\">\n",
       "<title>Caroline&#45;&gt;Michael</title>\n",
       "<path fill=\"none\" stroke=\"#000000\" d=\"M56.7192,-179.9134C57.8175,-187.6993 58.4334,-197.01 58.4772,-205.6941\"/>\n",
       "<polygon fill=\"#000000\" stroke=\"#000000\" points=\"54.975,-205.7525 58.2409,-215.8314 61.9731,-205.9157 54.975,-205.7525\"/>\n",
       "</g>\n",
       "<!-- Marc -->\n",
       "<g id=\"node5\" class=\"node\">\n",
       "<title>Marc</title>\n",
       "<ellipse fill=\"none\" stroke=\"#000000\" cx=\"60.0456\" cy=\"-90\" rx=\"30.5947\" ry=\"18\"/>\n",
       "<text text-anchor=\"middle\" x=\"60.0456\" y=\"-86.3\" font-family=\"Times,serif\" font-size=\"14.00\" fill=\"#000000\">Marc</text>\n",
       "</g>\n",
       "<!-- Caroline&#45;&gt;Marc -->\n",
       "<g id=\"edge3\" class=\"edge\">\n",
       "<title>Caroline&#45;&gt;Marc</title>\n",
       "<path fill=\"none\" stroke=\"#000000\" d=\"M46.6166,-143.8314C46.9491,-135.8068 48.0763,-126.2008 49.6751,-117.3392\"/>\n",
       "<polygon fill=\"#000000\" stroke=\"#000000\" points=\"53.1288,-117.9224 51.7494,-107.4177 46.277,-116.4898 53.1288,-117.9224\"/>\n",
       "</g>\n",
       "<!-- Michael&#45;&gt;Caroline -->\n",
       "<g id=\"edge5\" class=\"edge\">\n",
       "<title>Michael&#45;&gt;Caroline</title>\n",
       "<path fill=\"none\" stroke=\"#000000\" d=\"M46.3361,-215.8314C45.2484,-208.0125 44.644,-198.6923 44.6127,-190.0221\"/>\n",
       "<polygon fill=\"#000000\" stroke=\"#000000\" points=\"48.1143,-189.9976 44.8647,-179.9134 41.1165,-189.823 48.1143,-189.9976\"/>\n",
       "</g>\n",
       "<!-- Michael&#45;&gt;Matthew -->\n",
       "<g id=\"edge6\" class=\"edge\">\n",
       "<title>Michael&#45;&gt;Matthew</title>\n",
       "<path fill=\"none\" stroke=\"#000000\" d=\"M72.213,-250.6058C80.1785,-259.3072 89.1655,-270.1636 96.5792,-279.9539\"/>\n",
       "<polygon fill=\"#000000\" stroke=\"#000000\" points=\"93.8899,-282.2053 102.6242,-288.2022 99.536,-278.0675 93.8899,-282.2053\"/>\n",
       "</g>\n",
       "<!-- Matthew&#45;&gt;Michael -->\n",
       "<g id=\"edge8\" class=\"edge\">\n",
       "<title>Matthew&#45;&gt;Michael</title>\n",
       "<path fill=\"none\" stroke=\"#000000\" d=\"M92.1236,-289.6621C84.1136,-280.9336 75.0379,-269.9805 67.5563,-260.1047\"/>\n",
       "<polygon fill=\"#000000\" stroke=\"#000000\" points=\"70.1936,-257.7823 61.4588,-251.7862 64.5479,-261.9207 70.1936,-257.7823\"/>\n",
       "</g>\n",
       "<!-- Matthew&#45;&gt;Jasmine -->\n",
       "<g id=\"edge7\" class=\"edge\">\n",
       "<title>Matthew&#45;&gt;Jasmine</title>\n",
       "<path fill=\"none\" stroke=\"#000000\" d=\"M109.1853,-287.9843C109.4846,-239.2939 121.3869,-104.7961 130.3064,-46.0573\"/>\n",
       "<polygon fill=\"#000000\" stroke=\"#000000\" points=\"133.79,-46.4398 131.9337,-36.0089 126.88,-45.3207 133.79,-46.4398\"/>\n",
       "</g>\n",
       "<!-- Marc&#45;&gt;Caroline -->\n",
       "<g id=\"edge10\" class=\"edge\">\n",
       "<title>Marc&#45;&gt;Caroline</title>\n",
       "<path fill=\"none\" stroke=\"#000000\" d=\"M63.4776,-108.0931C63.1531,-116.034 62.0475,-125.5345 60.4749,-134.3325\"/>\n",
       "<polygon fill=\"#000000\" stroke=\"#000000\" points=\"57.0316,-133.7005 58.4332,-144.2022 63.8865,-135.1186 57.0316,-133.7005\"/>\n",
       "</g>\n",
       "<!-- Marc&#45;&gt;Jasmine -->\n",
       "<g id=\"edge9\" class=\"edge\">\n",
       "<title>Marc&#45;&gt;Jasmine</title>\n",
       "<path fill=\"none\" stroke=\"#000000\" d=\"M72.1037,-73.3008C81.5289,-63.4865 94.7656,-50.955 106.8976,-40.3035\"/>\n",
       "<polygon fill=\"#000000\" stroke=\"#000000\" points=\"109.3633,-42.7992 114.6593,-33.6229 104.7968,-37.4937 109.3633,-42.7992\"/>\n",
       "</g>\n",
       "<!-- Jasmine&#45;&gt;Matthew -->\n",
       "<g id=\"edge12\" class=\"edge\">\n",
       "<title>Jasmine&#45;&gt;Matthew</title>\n",
       "<path fill=\"none\" stroke=\"#000000\" d=\"M138.9058,-36.0089C138.6076,-84.6912 126.7057,-219.1886 117.786,-277.9345\"/>\n",
       "<polygon fill=\"#000000\" stroke=\"#000000\" points=\"114.3022,-277.5534 116.1586,-287.9843 121.2122,-278.6724 114.3022,-277.5534\"/>\n",
       "</g>\n",
       "<!-- Jasmine&#45;&gt;Marc -->\n",
       "<g id=\"edge11\" class=\"edge\">\n",
       "<title>Jasmine&#45;&gt;Marc</title>\n",
       "<path fill=\"none\" stroke=\"#000000\" d=\"M124.3064,-35.4062C114.405,-45.6551 100.5773,-58.6753 88.2101,-69.4296\"/>\n",
       "<polygon fill=\"#000000\" stroke=\"#000000\" points=\"85.6979,-66.9716 80.3499,-76.1177 90.2342,-72.3029 85.6979,-66.9716\"/>\n",
       "</g>\n",
       "</g>\n",
       "</svg>\n"
      ],
      "text/plain": [
       "<graphviz.dot.Digraph at 0x7f7faf460278>"
      ]
     },
     "execution_count": 16,
     "metadata": {},
     "output_type": "execute_result"
    }
   ],
   "source": [
    "from graphviz import Digraph\n",
    "\n",
    "dot = Digraph()\n",
    "\n",
    "with graph.session() as session:\n",
    "    names = session.read_transaction(get_all_names) \n",
    "    for n in names:\n",
    "        dot.node(n) # add nodes\n",
    "\n",
    "with graph.session() as session:\n",
    "    for n in names:\n",
    "        results = session.run('MATCH (Person { name:$name })-[*1]->(p) RETURN p', name=n)\n",
    "        for r in results:\n",
    "            innerName = r['p']['name']\n",
    "            dot.edge(n, innerName) # add edges\n",
    "\n",
    "dot"
   ]
  },
  {
   "cell_type": "code",
   "execution_count": 17,
   "metadata": {},
   "outputs": [],
   "source": [
    "#close the db\n",
    "graph.close()"
   ]
  },
  {
   "cell_type": "code",
   "execution_count": null,
   "metadata": {},
   "outputs": [],
   "source": []
  }
 ],
 "metadata": {
  "kernelspec": {
   "display_name": "Python 3",
   "language": "python",
   "name": "python3"
  },
  "language_info": {
   "codemirror_mode": {
    "name": "ipython",
    "version": 3
   },
   "file_extension": ".py",
   "mimetype": "text/x-python",
   "name": "python",
   "nbconvert_exporter": "python",
   "pygments_lexer": "ipython3",
   "version": "3.6.9"
  }
 },
 "nbformat": 4,
 "nbformat_minor": 4
}
