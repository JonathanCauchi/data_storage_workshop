{
 "cells": [
  {
   "cell_type": "code",
   "execution_count": 1,
   "metadata": {},
   "outputs": [],
   "source": [
    "from neo4j.v1 import GraphDatabase"
   ]
  },
  {
   "cell_type": "code",
   "execution_count": 2,
   "metadata": {},
   "outputs": [],
   "source": [
    "graph = GraphDatabase.driver(\"bolt://neo4j:7687\")"
   ]
  },
  {
   "cell_type": "code",
   "execution_count": 3,
   "metadata": {},
   "outputs": [],
   "source": [
    "# clear all existing nodes, should use this on a huge database (just delete the graphdb file)\n",
    "with graph.session() as session:\n",
    "    session.run(\"MATCH (n) DETACH DELETE n\")"
   ]
  },
  {
   "cell_type": "markdown",
   "metadata": {},
   "source": [
    "# Create Nodes"
   ]
  },
  {
   "cell_type": "code",
   "execution_count": 4,
   "metadata": {},
   "outputs": [],
   "source": [
    "def create_person(tx, name, email=None):\n",
    "    return tx.run(\"CREATE (a:Person {name:$name, email:$email}) \"\n",
    "                  \"RETURN id(a)\", name=name, email=email).single().value()\n",
    "\n",
    "with graph.session() as session:\n",
    "    # some nodes have extra attributes (e.g. email)\n",
    "    jp_node_id = session.write_transaction(create_person, \"JP\", \"jean.p.ebejer@um.edu.mt\")\n",
    "    matthew_node_id = session.write_transaction(create_person, \"Matthew\")\n",
    "    marc_node_id = session.write_transaction(create_person, \"Marc\")\n",
    "    jasmine_node_id = session.write_transaction(create_person, \"Jasmine\")    "
   ]
  },
  {
   "cell_type": "markdown",
   "metadata": {},
   "source": [
    "# Create Relationships"
   ]
  },
  {
   "cell_type": "code",
   "execution_count": 5,
   "metadata": {},
   "outputs": [],
   "source": [
    "# don't use internal Neo4j IDs  as not reccommended\n",
    "\n",
    "def create_lectures(tx, a_name, b_name):\n",
    "    return tx.run(\"MATCH (a:Person {name: $a_name})\"\n",
    "                  \"MATCH (b:Person {name: $b_name})\"\n",
    "                  \"CREATE (a)-[r:LECTURES]->(b)\"\n",
    "                  \"RETURN type(r)\", a_name=a_name, b_name=b_name).single().value()\n",
    "\n",
    "def create_friends_bidirectional(tx, a_name, b_name, expires=None):\n",
    "    return tx.run(\"MATCH (a:Person {name: $a_name})\"\n",
    "                  \"MATCH (b:Person {name: $b_name})\"\n",
    "                  \"CREATE (a)-[r1:FRIENDS { expires: $expires }]->(b)\"\n",
    "                  \"CREATE (a)<-[r2:FRIENDS { expires: $expires }]-(b)\" # looks silly but create only allows directional\n",
    "                  \"RETURN type(r1)\", a_name=a_name, b_name=b_name, expires=expires).single().value()\n",
    "\n",
    "with graph.session() as session:\n",
    "    session.write_transaction(create_lectures, \"JP\", \"Matthew\")    \n",
    "    session.write_transaction(create_lectures, \"JP\", \"Jasmine\")\n",
    "    session.write_transaction(create_friends_bidirectional, \"Jasmine\", \"Marc\")\n",
    "    session.write_transaction(create_friends_bidirectional, \"Jasmine\", \"Matthew\", \"Jan 2019\")"
   ]
  },
  {
   "cell_type": "markdown",
   "metadata": {},
   "source": [
    "You can have a look at the above graph via your web browser http://localhost:7474/browser/.  There is a helpful [Neo4j Cypher cheatsheet](https://neo4j.com/docs/pdf/neo4j-cypher-refcard-stable.pdf)."
   ]
  },
  {
   "cell_type": "code",
   "execution_count": 6,
   "metadata": {},
   "outputs": [
    {
     "name": "stdout",
     "output_type": "stream",
     "text": [
      "JP\n",
      "Matthew\n",
      "Marc\n",
      "Jasmine\n"
     ]
    }
   ],
   "source": [
    "def get_all_names(tx):\n",
    "    names = []\n",
    "    for record in tx.run(\"MATCH (p:Person) RETURN p.name AS name\"):\n",
    "        print(record['name'])\n",
    "        names.append(record['name'])\n",
    "    return names\n",
    "\n",
    "# Example of the cypher language\n",
    "with graph.session() as session:\n",
    "    session.read_transaction(get_all_names)    "
   ]
  },
  {
   "cell_type": "code",
   "execution_count": 7,
   "metadata": {},
   "outputs": [
    {
     "name": "stdout",
     "output_type": "stream",
     "text": [
      "JP jean.p.ebejer@um.edu.mt\n",
      "dict_keys(['name', 'email'])\n",
      "dict_values(['JP', 'jean.p.ebejer@um.edu.mt'])\n"
     ]
    }
   ],
   "source": [
    "  \n",
    "def match_person_node(tx, name):\n",
    "    result = tx.run(\"MATCH (a:Person {name: $name}) RETURN a\", name=name)\n",
    "    return result.single()[0]\n",
    "\n",
    "with graph.session() as session:\n",
    "    record = session.read_transaction(match_person_node, \"JP\")\n",
    "    print(record['name'], record['email'])\n",
    "    print(record.keys())\n",
    "    print(record.values())"
   ]
  },
  {
   "cell_type": "code",
   "execution_count": 8,
   "metadata": {},
   "outputs": [
    {
     "name": "stdout",
     "output_type": "stream",
     "text": [
      "LECTURES\n",
      "FRIENDS\n"
     ]
    }
   ],
   "source": [
    "with graph.session() as session:\n",
    "    rels = session.run(\"MATCH (n)-[r]-(m) RETURN distinct type(r) as r\")\n",
    "    for r in rels:\n",
    "        print(r['r'])"
   ]
  },
  {
   "cell_type": "code",
   "execution_count": 9,
   "metadata": {},
   "outputs": [
    {
     "name": "stdout",
     "output_type": "stream",
     "text": [
      "JP\n",
      "Matthew\n",
      "Marc\n",
      "Jasmine\n"
     ]
    }
   ],
   "source": [
    "with graph.session() as session:\n",
    "    record = session.run(\"START n=node(*) return n\")\n",
    "    for r in record:\n",
    "        print(r['n']['name'])"
   ]
  },
  {
   "cell_type": "code",
   "execution_count": 10,
   "metadata": {},
   "outputs": [
    {
     "name": "stdout",
     "output_type": "stream",
     "text": [
      "Jasmine\n",
      "Matthew\n"
     ]
    }
   ],
   "source": [
    "with graph.session() as session:\n",
    "    record = session.run(\"MATCH (a:Person)-[:LECTURES]->(s)\"\n",
    "                         \"WHERE a.name = {name} \"\n",
    "                         \"RETURN s.name as name\", name=\"JP\")\n",
    "    for r in record:\n",
    "        print(r['name'])"
   ]
  },
  {
   "cell_type": "code",
   "execution_count": 11,
   "metadata": {},
   "outputs": [
    {
     "name": "stdout",
     "output_type": "stream",
     "text": [
      "Matthew\n",
      "Marc\n"
     ]
    }
   ],
   "source": [
    "# from all of Jasmine friends ...\n",
    "with graph.session() as session:\n",
    "    results = session.run('MATCH (Person { name:\"Jasmine\" })-[:FRIENDS]->(x) RETURN x as jasmine_friend')\n",
    "    for jf in results:\n",
    "        print(jf['jasmine_friend']['name'])"
   ]
  },
  {
   "cell_type": "code",
   "execution_count": 12,
   "metadata": {},
   "outputs": [],
   "source": [
    "# add some more data\n",
    "with graph.session() as session:\n",
    "    # some nodes have extra attributes (e.g. email)\n",
    "    session.write_transaction(create_person, \"Caroline\")\n",
    "    session.write_transaction(create_person, \"Michael\")\n",
    "    session.write_transaction(create_friends_bidirectional, \"Marc\", \"Caroline\")\n",
    "    session.write_transaction(create_friends_bidirectional, \"Caroline\", \"Michael\")\n",
    "    session.write_transaction(create_friends_bidirectional, \"Michael\", \"Matthew\")"
   ]
  },
  {
   "cell_type": "code",
   "execution_count": 13,
   "metadata": {},
   "outputs": [
    {
     "name": "stdout",
     "output_type": "stream",
     "text": [
      "[<Node id=62 labels={'Person'} properties={'name': 'Marc'}>, <Node id=63 labels={'Person'} properties={'name': 'Jasmine'}>, <Node id=61 labels={'Person'} properties={'name': 'Matthew'}>]\n",
      "[<Node id=62 labels={'Person'} properties={'name': 'Marc'}>, <Node id=64 labels={'Person'} properties={'name': 'Caroline'}>, <Node id=65 labels={'Person'} properties={'name': 'Michael'}>, <Node id=61 labels={'Person'} properties={'name': 'Matthew'}>]\n"
     ]
    }
   ],
   "source": [
    "\n",
    "# Find all paths from Marc to Matthew\n",
    "with graph.session() as session:\n",
    "    results = session.run('MATCH p = ((p1:Person { name:\"Marc\" })-[r:FRIENDS*1..]->(p2:Person { name:\"Matthew\" })) '\n",
    "                          'WHERE ALL(x IN NODES(p) WHERE SINGLE(y IN NODES(p) WHERE y = x))'\n",
    "                          'RETURN nodes(p) as nodes, LENGTH(p) as length '\n",
    "                          'ORDER BY length')\n",
    "    for r in results:\n",
    "        print(r['nodes'])    \n",
    "        \n",
    "    "
   ]
  },
  {
   "cell_type": "code",
   "execution_count": 14,
   "metadata": {},
   "outputs": [
    {
     "name": "stdout",
     "output_type": "stream",
     "text": [
      "Marc\n",
      "Jasmine\n",
      "Matthew\n"
     ]
    }
   ],
   "source": [
    "# Find shortest paths from Marc to Matthew\n",
    "with graph.session() as session:\n",
    "    results = session.run('MATCH p = shortestpath((x)-[FRIENDS*1..]->(y)) '\n",
    "                          'WHERE x.name = \"Marc\" AND y.name = \"Matthew\" '\n",
    "                          'RETURN NODES(p) AS n ')\n",
    "    for r in results:\n",
    "        for n in r['n']:\n",
    "            print(n['name'])"
   ]
  },
  {
   "cell_type": "markdown",
   "metadata": {},
   "source": [
    "# Visualization (Attempt)"
   ]
  },
  {
   "cell_type": "code",
   "execution_count": 15,
   "metadata": {},
   "outputs": [
    {
     "name": "stdout",
     "output_type": "stream",
     "text": [
      "JP\n",
      "Matthew\n",
      "Marc\n",
      "Jasmine\n",
      "Caroline\n",
      "Michael\n"
     ]
    },
    {
     "data": {
      "image/svg+xml": [
       "<?xml version=\"1.0\" encoding=\"UTF-8\" standalone=\"no\"?>\n",
       "<!DOCTYPE svg PUBLIC \"-//W3C//DTD SVG 1.1//EN\"\n",
       " \"http://www.w3.org/Graphics/SVG/1.1/DTD/svg11.dtd\">\n",
       "<!-- Generated by graphviz version 2.38.0 (20140413.2041)\n",
       " -->\n",
       "<!-- Title: %3 Pages: 1 -->\n",
       "<svg width=\"179pt\" height=\"404pt\"\n",
       " viewBox=\"0.00 0.00 178.89 404.00\" xmlns=\"http://www.w3.org/2000/svg\" xmlns:xlink=\"http://www.w3.org/1999/xlink\">\n",
       "<g id=\"graph0\" class=\"graph\" transform=\"scale(1 1) rotate(0) translate(4 400)\">\n",
       "<title>%3</title>\n",
       "<polygon fill=\"white\" stroke=\"none\" points=\"-4,4 -4,-400 174.892,-400 174.892,4 -4,4\"/>\n",
       "<!-- JP -->\n",
       "<g id=\"node1\" class=\"node\"><title>JP</title>\n",
       "<ellipse fill=\"none\" stroke=\"black\" cx=\"89.0456\" cy=\"-378\" rx=\"27\" ry=\"18\"/>\n",
       "<text text-anchor=\"middle\" x=\"89.0456\" y=\"-374.3\" font-family=\"Times,serif\" font-size=\"14.00\">JP</text>\n",
       "</g>\n",
       "<!-- Matthew -->\n",
       "<g id=\"node2\" class=\"node\"><title>Matthew</title>\n",
       "<ellipse fill=\"none\" stroke=\"black\" cx=\"126.046\" cy=\"-306\" rx=\"44.6926\" ry=\"18\"/>\n",
       "<text text-anchor=\"middle\" x=\"126.046\" y=\"-302.3\" font-family=\"Times,serif\" font-size=\"14.00\">Matthew</text>\n",
       "</g>\n",
       "<!-- JP&#45;&gt;Matthew -->\n",
       "<g id=\"edge1\" class=\"edge\"><title>JP&#45;&gt;Matthew</title>\n",
       "<path fill=\"none\" stroke=\"black\" d=\"M97.6271,-360.765C101.982,-352.525 107.378,-342.317 112.294,-333.016\"/>\n",
       "<polygon fill=\"black\" stroke=\"black\" points=\"115.416,-334.6 116.994,-324.124 109.227,-331.329 115.416,-334.6\"/>\n",
       "</g>\n",
       "<!-- Jasmine -->\n",
       "<g id=\"node4\" class=\"node\"><title>Jasmine</title>\n",
       "<ellipse fill=\"none\" stroke=\"black\" cx=\"53.0456\" cy=\"-234\" rx=\"44.6926\" ry=\"18\"/>\n",
       "<text text-anchor=\"middle\" x=\"53.0456\" y=\"-230.3\" font-family=\"Times,serif\" font-size=\"14.00\">Jasmine</text>\n",
       "</g>\n",
       "<!-- JP&#45;&gt;Jasmine -->\n",
       "<g id=\"edge2\" class=\"edge\"><title>JP&#45;&gt;Jasmine</title>\n",
       "<path fill=\"none\" stroke=\"black\" d=\"M83.255,-360.417C79.7463,-350.031 75.3291,-336.325 72.0456,-324 66.5891,-303.518 61.6337,-280.062 58.1526,-262.373\"/>\n",
       "<polygon fill=\"black\" stroke=\"black\" points=\"61.5174,-261.337 56.1844,-252.183 54.6444,-262.665 61.5174,-261.337\"/>\n",
       "</g>\n",
       "<!-- Matthew&#45;&gt;Jasmine -->\n",
       "<g id=\"edge3\" class=\"edge\"><title>Matthew&#45;&gt;Jasmine</title>\n",
       "<path fill=\"none\" stroke=\"black\" d=\"M104.527,-289.811C94.0782,-280.839 81.7641,-269.278 71.7158,-259.087\"/>\n",
       "<polygon fill=\"black\" stroke=\"black\" points=\"73.9963,-256.409 64.5419,-251.628 68.9509,-261.262 73.9963,-256.409\"/>\n",
       "</g>\n",
       "<!-- Michael -->\n",
       "<g id=\"node6\" class=\"node\"><title>Michael</title>\n",
       "<ellipse fill=\"none\" stroke=\"black\" cx=\"93.0456\" cy=\"-18\" rx=\"44.6926\" ry=\"18\"/>\n",
       "<text text-anchor=\"middle\" x=\"93.0456\" y=\"-14.3\" font-family=\"Times,serif\" font-size=\"14.00\">Michael</text>\n",
       "</g>\n",
       "<!-- Matthew&#45;&gt;Michael -->\n",
       "<g id=\"edge4\" class=\"edge\"><title>Matthew&#45;&gt;Michael</title>\n",
       "<path fill=\"none\" stroke=\"black\" d=\"M121.372,-287.88C116.88,-249.108 114.808,-151.763 100.046,-72 98.4713,-63.4941 96.0264,-54.4183 93.9086,-46.2246\"/>\n",
       "<polygon fill=\"black\" stroke=\"black\" points=\"97.2849,-45.2975 91.4913,-36.427 90.4887,-46.9743 97.2849,-45.2975\"/>\n",
       "</g>\n",
       "<!-- Marc -->\n",
       "<g id=\"node3\" class=\"node\"><title>Marc</title>\n",
       "<ellipse fill=\"none\" stroke=\"black\" cx=\"51.0456\" cy=\"-162\" rx=\"30.5947\" ry=\"18\"/>\n",
       "<text text-anchor=\"middle\" x=\"51.0456\" y=\"-158.3\" font-family=\"Times,serif\" font-size=\"14.00\">Marc</text>\n",
       "</g>\n",
       "<!-- Marc&#45;&gt;Jasmine -->\n",
       "<g id=\"edge5\" class=\"edge\"><title>Marc&#45;&gt;Jasmine</title>\n",
       "<path fill=\"none\" stroke=\"black\" d=\"M57.3868,-179.789C58.4479,-187.591 58.9638,-197.067 58.8666,-205.848\"/>\n",
       "<polygon fill=\"black\" stroke=\"black\" points=\"55.3608,-205.917 58.4397,-216.055 62.3547,-206.21 55.3608,-205.917\"/>\n",
       "</g>\n",
       "<!-- Caroline -->\n",
       "<g id=\"node5\" class=\"node\"><title>Caroline</title>\n",
       "<ellipse fill=\"none\" stroke=\"black\" cx=\"50.0456\" cy=\"-90\" rx=\"50.0912\" ry=\"18\"/>\n",
       "<text text-anchor=\"middle\" x=\"50.0456\" y=\"-86.3\" font-family=\"Times,serif\" font-size=\"14.00\">Caroline</text>\n",
       "</g>\n",
       "<!-- Marc&#45;&gt;Caroline -->\n",
       "<g id=\"edge6\" class=\"edge\"><title>Marc&#45;&gt;Caroline</title>\n",
       "<path fill=\"none\" stroke=\"black\" d=\"M44.9253,-144.055C43.997,-136.346 43.6216,-127.027 43.8313,-118.364\"/>\n",
       "<polygon fill=\"black\" stroke=\"black\" points=\"47.3317,-118.45 44.3795,-108.275 40.342,-118.071 47.3317,-118.45\"/>\n",
       "</g>\n",
       "<!-- Jasmine&#45;&gt;Matthew -->\n",
       "<g id=\"edge8\" class=\"edge\"><title>Jasmine&#45;&gt;Matthew</title>\n",
       "<path fill=\"none\" stroke=\"black\" d=\"M74.3883,-250.038C84.8745,-259.031 97.2701,-270.665 107.375,-280.912\"/>\n",
       "<polygon fill=\"black\" stroke=\"black\" points=\"105.131,-283.629 114.585,-288.411 110.177,-278.777 105.131,-283.629\"/>\n",
       "</g>\n",
       "<!-- Jasmine&#45;&gt;Marc -->\n",
       "<g id=\"edge7\" class=\"edge\"><title>Jasmine&#45;&gt;Marc</title>\n",
       "<path fill=\"none\" stroke=\"black\" d=\"M46.6832,-216.055C45.6293,-208.231 45.1212,-198.748 45.2265,-189.977\"/>\n",
       "<polygon fill=\"black\" stroke=\"black\" points=\"48.7316,-189.93 45.6637,-179.789 41.7381,-189.63 48.7316,-189.93\"/>\n",
       "</g>\n",
       "<!-- Caroline&#45;&gt;Marc -->\n",
       "<g id=\"edge9\" class=\"edge\"><title>Caroline&#45;&gt;Marc</title>\n",
       "<path fill=\"none\" stroke=\"black\" d=\"M56.2052,-108.275C57.1176,-116.03 57.4769,-125.362 57.2505,-134.005\"/>\n",
       "<polygon fill=\"black\" stroke=\"black\" points=\"53.7525,-133.873 56.6817,-144.055 60.7413,-134.269 53.7525,-133.873\"/>\n",
       "</g>\n",
       "<!-- Caroline&#45;&gt;Michael -->\n",
       "<g id=\"edge10\" class=\"edge\"><title>Caroline&#45;&gt;Michael</title>\n",
       "<path fill=\"none\" stroke=\"black\" d=\"M54.5764,-72.055C58.9214,-63.5048 65.1906,-52.975 71.4856,-43.5561\"/>\n",
       "<polygon fill=\"black\" stroke=\"black\" points=\"74.3859,-45.5159 77.2196,-35.307 68.638,-41.5205 74.3859,-45.5159\"/>\n",
       "</g>\n",
       "<!-- Michael&#45;&gt;Matthew -->\n",
       "<g id=\"edge12\" class=\"edge\"><title>Michael&#45;&gt;Matthew</title>\n",
       "<path fill=\"none\" stroke=\"black\" d=\"M106.812,-35.4773C111.555,-45.8234 115.737,-59.5246 118.046,-72 131.655,-145.532 134.479,-234.005 131.632,-277.757\"/>\n",
       "<polygon fill=\"black\" stroke=\"black\" points=\"128.131,-277.624 130.789,-287.88 135.107,-278.205 128.131,-277.624\"/>\n",
       "</g>\n",
       "<!-- Michael&#45;&gt;Caroline -->\n",
       "<g id=\"edge11\" class=\"edge\"><title>Michael&#45;&gt;Caroline</title>\n",
       "<path fill=\"none\" stroke=\"black\" d=\"M88.4237,-36.1239C84.0658,-44.6744 77.8091,-55.1705 71.5338,-64.5512\"/>\n",
       "<polygon fill=\"black\" stroke=\"black\" points=\"68.6575,-62.557 65.8195,-72.7646 74.4036,-66.5547 68.6575,-62.557\"/>\n",
       "</g>\n",
       "</g>\n",
       "</svg>\n"
      ],
      "text/plain": [
       "<graphviz.dot.Digraph at 0x7fb8cc905b00>"
      ]
     },
     "execution_count": 15,
     "metadata": {},
     "output_type": "execute_result"
    }
   ],
   "source": [
    "from graphviz import Digraph\n",
    "\n",
    "dot = Digraph()\n",
    "\n",
    "with graph.session() as session:\n",
    "    names = session.read_transaction(get_all_names) \n",
    "    for n in names:\n",
    "        dot.node(n) # add nodes\n",
    "\n",
    "with graph.session() as session:\n",
    "    for n in names:\n",
    "        results = session.run('MATCH (Person { name:$name })-[*1]->(p) RETURN p', name=n)\n",
    "        for r in results:\n",
    "            innerName = r['p']['name']\n",
    "            dot.edge(n, innerName) # add edges\n",
    "\n",
    "dot"
   ]
  },
  {
   "cell_type": "code",
   "execution_count": 17,
   "metadata": {},
   "outputs": [],
   "source": [
    "#close the db\n",
    "graph.close()"
   ]
  }
 ],
 "metadata": {
  "kernelspec": {
   "display_name": "Python 3",
   "language": "python",
   "name": "python3"
  },
  "language_info": {
   "codemirror_mode": {
    "name": "ipython",
    "version": 3
   },
   "file_extension": ".py",
   "mimetype": "text/x-python",
   "name": "python",
   "nbconvert_exporter": "python",
   "pygments_lexer": "ipython3",
   "version": "3.5.6"
  }
 },
 "nbformat": 4,
 "nbformat_minor": 2
}
