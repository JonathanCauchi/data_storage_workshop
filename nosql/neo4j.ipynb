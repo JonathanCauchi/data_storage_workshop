{
 "cells": [
  {
   "cell_type": "code",
   "execution_count": 1,
   "metadata": {},
   "outputs": [],
   "source": [
    "from neo4j import GraphDatabase"
   ]
  },
  {
   "cell_type": "code",
   "execution_count": 2,
   "metadata": {},
   "outputs": [],
   "source": [
    "graph = GraphDatabase.driver(\"bolt://neo4j:7687\", encrypted=False)"
   ]
  },
  {
   "cell_type": "code",
   "execution_count": 3,
   "metadata": {},
   "outputs": [],
   "source": [
    "# clear all existing nodes, should use this on a huge database (just delete the graphdb file)\n",
    "with graph.session() as session:\n",
    "    session.run(\"MATCH (n) DETACH DELETE n\")"
   ]
  },
  {
   "cell_type": "markdown",
   "metadata": {},
   "source": [
    "# Create Nodes"
   ]
  },
  {
   "cell_type": "code",
   "execution_count": 4,
   "metadata": {},
   "outputs": [],
   "source": [
    "def create_person(tx, name, email=None):\n",
    "    return tx.run(\"CREATE (a:Person {name:$name, email:$email}) \"\n",
    "                  \"RETURN id(a)\", name=name, email=email).single().value()\n",
    "\n",
    "with graph.session() as session:\n",
    "    # some nodes have extra attributes (e.g. email)\n",
    "    jp_node_id = session.write_transaction(create_person, \"JP\", \"jean.p.ebejer@um.edu.mt\")\n",
    "    matthew_node_id = session.write_transaction(create_person, \"Matthew\")\n",
    "    marc_node_id = session.write_transaction(create_person, \"Marc\")\n",
    "    jasmine_node_id = session.write_transaction(create_person, \"Jasmine\")    "
   ]
  },
  {
   "cell_type": "markdown",
   "metadata": {},
   "source": [
    "# Create Relationships"
   ]
  },
  {
   "cell_type": "code",
   "execution_count": 5,
   "metadata": {},
   "outputs": [],
   "source": [
    "# don't use internal Neo4j IDs  as not reccommended\n",
    "\n",
    "def create_lectures(tx, a_name, b_name):\n",
    "    return tx.run(\"MATCH (a:Person {name: $a_name})\"\n",
    "                  \"MATCH (b:Person {name: $b_name})\"\n",
    "                  \"CREATE (a)-[r:LECTURES]->(b)\"\n",
    "                  \"RETURN type(r)\", a_name=a_name, b_name=b_name).single().value()\n",
    "\n",
    "def create_friends_bidirectional(tx, a_name, b_name, expires=None):\n",
    "    return tx.run(\"MATCH (a:Person {name: $a_name})\"\n",
    "                  \"MATCH (b:Person {name: $b_name})\"\n",
    "                  \"CREATE (a)-[r1:FRIENDS { expires: $expires }]->(b)\"\n",
    "                  \"CREATE (a)<-[r2:FRIENDS { expires: $expires }]-(b)\" # looks silly but create only allows directional\n",
    "                  \"RETURN type(r1)\", a_name=a_name, b_name=b_name, expires=expires).single().value()\n",
    "\n",
    "with graph.session() as session:\n",
    "    session.write_transaction(create_lectures, \"JP\", \"Matthew\")    \n",
    "    session.write_transaction(create_lectures, \"JP\", \"Jasmine\")\n",
    "    session.write_transaction(create_friends_bidirectional, \"Jasmine\", \"Marc\")\n",
    "    session.write_transaction(create_friends_bidirectional, \"Jasmine\", \"Matthew\", \"Jan 2019\")"
   ]
  },
  {
   "cell_type": "markdown",
   "metadata": {},
   "source": [
    "You can have a look at the above graph via your web browser http://localhost:7474/browser/.  There is a helpful [Neo4j Cypher cheatsheet](https://neo4j.com/docs/pdf/neo4j-cypher-refcard-stable.pdf)."
   ]
  },
  {
   "cell_type": "code",
   "execution_count": 6,
   "metadata": {},
   "outputs": [
    {
     "name": "stdout",
     "output_type": "stream",
     "text": [
      "JP\n",
      "Matthew\n",
      "Marc\n",
      "Jasmine\n"
     ]
    }
   ],
   "source": [
    "def get_all_names(tx):\n",
    "    names = []\n",
    "    for record in tx.run(\"MATCH (p:Person) RETURN p.name AS name\"):\n",
    "        print(record['name'])\n",
    "        names.append(record['name'])\n",
    "    return names\n",
    "\n",
    "# Example of the cypher language\n",
    "with graph.session() as session:\n",
    "    session.read_transaction(get_all_names)    "
   ]
  },
  {
   "cell_type": "code",
   "execution_count": 7,
   "metadata": {},
   "outputs": [
    {
     "name": "stdout",
     "output_type": "stream",
     "text": [
      "JP jean.p.ebejer@um.edu.mt\n",
      "dict_keys(['name', 'email'])\n",
      "dict_values(['JP', 'jean.p.ebejer@um.edu.mt'])\n"
     ]
    }
   ],
   "source": [
    "  \n",
    "def match_person_node(tx, name):\n",
    "    result = tx.run(\"MATCH (a:Person {name: $name}) RETURN a\", name=name)\n",
    "    return result.single()[0]\n",
    "\n",
    "with graph.session() as session:\n",
    "    record = session.read_transaction(match_person_node, \"JP\")\n",
    "    print(record['name'], record['email'])\n",
    "    print(record.keys())\n",
    "    print(record.values())"
   ]
  },
  {
   "cell_type": "code",
   "execution_count": 8,
   "metadata": {},
   "outputs": [
    {
     "name": "stdout",
     "output_type": "stream",
     "text": [
      "LECTURES\n",
      "FRIENDS\n"
     ]
    }
   ],
   "source": [
    "with graph.session() as session:\n",
    "    rels = session.run(\"MATCH (n)-[r]-(m) RETURN distinct type(r) as r\")\n",
    "    for r in rels:\n",
    "        print(r['r'])"
   ]
  },
  {
   "cell_type": "code",
   "execution_count": 10,
   "metadata": {},
   "outputs": [
    {
     "name": "stdout",
     "output_type": "stream",
     "text": [
      "JP\n",
      "Matthew\n",
      "Marc\n",
      "Jasmine\n"
     ]
    }
   ],
   "source": [
    "with graph.session() as session:\n",
    "    record = session.run(\"MATCH (n) return n\")\n",
    "    for r in record:\n",
    "        print(r['n']['name'])"
   ]
  },
  {
   "cell_type": "code",
   "execution_count": 12,
   "metadata": {},
   "outputs": [
    {
     "name": "stdout",
     "output_type": "stream",
     "text": [
      "Jasmine\n",
      "Matthew\n"
     ]
    }
   ],
   "source": [
    "with graph.session() as session:\n",
    "    record = session.run(\"MATCH (a:Person)-[:LECTURES]->(s)\"\n",
    "                         \"WHERE a.name = $name \"\n",
    "                         \"RETURN s.name as name\", name=\"JP\")\n",
    "    for r in record:\n",
    "        print(r['name'])"
   ]
  },
  {
   "cell_type": "code",
   "execution_count": 13,
   "metadata": {},
   "outputs": [
    {
     "name": "stdout",
     "output_type": "stream",
     "text": [
      "Matthew\n",
      "Marc\n"
     ]
    }
   ],
   "source": [
    "# from all of Jasmine friends ...\n",
    "with graph.session() as session:\n",
    "    results = session.run('MATCH (Person { name:\"Jasmine\" })-[:FRIENDS]->(x) RETURN x as jasmine_friend')\n",
    "    for jf in results:\n",
    "        print(jf['jasmine_friend']['name'])"
   ]
  },
  {
   "cell_type": "code",
   "execution_count": 14,
   "metadata": {},
   "outputs": [],
   "source": [
    "# add some more data\n",
    "with graph.session() as session:\n",
    "    # some nodes have extra attributes (e.g. email)\n",
    "    session.write_transaction(create_person, \"Caroline\")\n",
    "    session.write_transaction(create_person, \"Michael\")\n",
    "    session.write_transaction(create_friends_bidirectional, \"Marc\", \"Caroline\")\n",
    "    session.write_transaction(create_friends_bidirectional, \"Caroline\", \"Michael\")\n",
    "    session.write_transaction(create_friends_bidirectional, \"Michael\", \"Matthew\")"
   ]
  },
  {
   "cell_type": "code",
   "execution_count": 15,
   "metadata": {},
   "outputs": [
    {
     "name": "stdout",
     "output_type": "stream",
     "text": [
      "[<Node id=8 labels={'Person'} properties={'name': 'Marc'}>, <Node id=9 labels={'Person'} properties={'name': 'Jasmine'}>, <Node id=7 labels={'Person'} properties={'name': 'Matthew'}>]\n",
      "[<Node id=8 labels={'Person'} properties={'name': 'Marc'}>, <Node id=0 labels={'Person'} properties={'name': 'Caroline'}>, <Node id=1 labels={'Person'} properties={'name': 'Michael'}>, <Node id=7 labels={'Person'} properties={'name': 'Matthew'}>]\n"
     ]
    }
   ],
   "source": [
    "\n",
    "# Find all paths from Marc to Matthew\n",
    "with graph.session() as session:\n",
    "    results = session.run('MATCH p = ((p1:Person { name:\"Marc\" })-[r:FRIENDS*1..]->(p2:Person { name:\"Matthew\" })) '\n",
    "                          'WHERE ALL(x IN NODES(p) WHERE SINGLE(y IN NODES(p) WHERE y = x))'\n",
    "                          'RETURN nodes(p) as nodes, LENGTH(p) as length '\n",
    "                          'ORDER BY length')\n",
    "    for r in results:\n",
    "        print(r['nodes'])    \n",
    "        \n",
    "    "
   ]
  },
  {
   "cell_type": "code",
   "execution_count": 16,
   "metadata": {},
   "outputs": [
    {
     "name": "stdout",
     "output_type": "stream",
     "text": [
      "Marc\n",
      "Jasmine\n",
      "Matthew\n"
     ]
    }
   ],
   "source": [
    "# Find shortest paths from Marc to Matthew\n",
    "with graph.session() as session:\n",
    "    results = session.run('MATCH p = shortestpath((x)-[FRIENDS*1..]->(y)) '\n",
    "                          'WHERE x.name = \"Marc\" AND y.name = \"Matthew\" '\n",
    "                          'RETURN NODES(p) AS n ')\n",
    "    for r in results:\n",
    "        for n in r['n']:\n",
    "            print(n['name'])"
   ]
  },
  {
   "cell_type": "markdown",
   "metadata": {},
   "source": [
    "# Visualization (Attempt)"
   ]
  },
  {
   "cell_type": "code",
   "execution_count": 17,
   "metadata": {},
   "outputs": [
    {
     "name": "stdout",
     "output_type": "stream",
     "text": [
      "Caroline\n",
      "Michael\n",
      "JP\n",
      "Matthew\n",
      "Marc\n",
      "Jasmine\n"
     ]
    },
    {
     "data": {
      "image/svg+xml": [
       "<?xml version=\"1.0\" encoding=\"UTF-8\" standalone=\"no\"?>\n",
       "<!DOCTYPE svg PUBLIC \"-//W3C//DTD SVG 1.1//EN\"\n",
       " \"http://www.w3.org/Graphics/SVG/1.1/DTD/svg11.dtd\">\n",
       "<!-- Generated by graphviz version 2.40.1 (20161225.0304)\n",
       " -->\n",
       "<!-- Title: %3 Pages: 1 -->\n",
       "<svg width=\"216pt\" height=\"332pt\"\n",
       " viewBox=\"0.00 0.00 216.05 332.00\" xmlns=\"http://www.w3.org/2000/svg\" xmlns:xlink=\"http://www.w3.org/1999/xlink\">\n",
       "<g id=\"graph0\" class=\"graph\" transform=\"scale(1 1) rotate(0) translate(4 328)\">\n",
       "<title>%3</title>\n",
       "<polygon fill=\"#ffffff\" stroke=\"transparent\" points=\"-4,4 -4,-328 212.0456,-328 212.0456,4 -4,4\"/>\n",
       "<!-- Caroline -->\n",
       "<g id=\"node1\" class=\"node\">\n",
       "<title>Caroline</title>\n",
       "<ellipse fill=\"none\" stroke=\"#000000\" cx=\"50.0456\" cy=\"-306\" rx=\"50.0912\" ry=\"18\"/>\n",
       "<text text-anchor=\"middle\" x=\"50.0456\" y=\"-302.3\" font-family=\"Times,serif\" font-size=\"14.00\" fill=\"#000000\">Caroline</text>\n",
       "</g>\n",
       "<!-- Michael -->\n",
       "<g id=\"node2\" class=\"node\">\n",
       "<title>Michael</title>\n",
       "<ellipse fill=\"none\" stroke=\"#000000\" cx=\"91.0456\" cy=\"-234\" rx=\"44.6926\" ry=\"18\"/>\n",
       "<text text-anchor=\"middle\" x=\"91.0456\" y=\"-230.3\" font-family=\"Times,serif\" font-size=\"14.00\" fill=\"#000000\">Michael</text>\n",
       "</g>\n",
       "<!-- Caroline&#45;&gt;Michael -->\n",
       "<g id=\"edge2\" class=\"edge\">\n",
       "<title>Caroline&#45;&gt;Michael</title>\n",
       "<path fill=\"none\" stroke=\"#000000\" d=\"M54.4392,-287.8314C58.4922,-279.2444 64.2348,-268.8466 70.0442,-259.4878\"/>\n",
       "<polygon fill=\"#000000\" stroke=\"#000000\" points=\"73.0896,-261.2239 75.5816,-250.9263 67.2119,-257.4223 73.0896,-261.2239\"/>\n",
       "</g>\n",
       "<!-- Marc -->\n",
       "<g id=\"node5\" class=\"node\">\n",
       "<title>Marc</title>\n",
       "<ellipse fill=\"none\" stroke=\"#000000\" cx=\"50.0456\" cy=\"-18\" rx=\"30.5947\" ry=\"18\"/>\n",
       "<text text-anchor=\"middle\" x=\"50.0456\" y=\"-14.3\" font-family=\"Times,serif\" font-size=\"14.00\" fill=\"#000000\">Marc</text>\n",
       "</g>\n",
       "<!-- Caroline&#45;&gt;Marc -->\n",
       "<g id=\"edge1\" class=\"edge\">\n",
       "<title>Caroline&#45;&gt;Marc</title>\n",
       "<path fill=\"none\" stroke=\"#000000\" d=\"M36.7615,-288.1926C32.7501,-277.7568 29.5001,-264.2568 28.0456,-252 18.6177,-172.5575 18.6177,-151.4425 28.0456,-72 29.1237,-62.9151 31.1883,-53.1472 33.8181,-44.4504\"/>\n",
       "<polygon fill=\"#000000\" stroke=\"#000000\" points=\"37.1816,-45.4329 37.1398,-34.8381 30.5655,-43.1465 37.1816,-45.4329\"/>\n",
       "</g>\n",
       "<!-- Michael&#45;&gt;Caroline -->\n",
       "<g id=\"edge3\" class=\"edge\">\n",
       "<title>Michael&#45;&gt;Caroline</title>\n",
       "<path fill=\"none\" stroke=\"#000000\" d=\"M86.7217,-252.0206C82.7313,-260.4951 77.0781,-270.7579 71.3334,-280.0497\"/>\n",
       "<polygon fill=\"#000000\" stroke=\"#000000\" points=\"68.3181,-278.2677 65.8488,-288.5708 74.2042,-282.0564 68.3181,-278.2677\"/>\n",
       "</g>\n",
       "<!-- Matthew -->\n",
       "<g id=\"node4\" class=\"node\">\n",
       "<title>Matthew</title>\n",
       "<ellipse fill=\"none\" stroke=\"#000000\" cx=\"91.0456\" cy=\"-162\" rx=\"44.6926\" ry=\"18\"/>\n",
       "<text text-anchor=\"middle\" x=\"91.0456\" y=\"-158.3\" font-family=\"Times,serif\" font-size=\"14.00\" fill=\"#000000\">Matthew</text>\n",
       "</g>\n",
       "<!-- Michael&#45;&gt;Matthew -->\n",
       "<g id=\"edge4\" class=\"edge\">\n",
       "<title>Michael&#45;&gt;Matthew</title>\n",
       "<path fill=\"none\" stroke=\"#000000\" d=\"M85.0932,-215.8314C84.3312,-208.0125 84.1152,-198.6923 84.4451,-190.0221\"/>\n",
       "<polygon fill=\"#000000\" stroke=\"#000000\" points=\"87.946,-190.1239 85.1183,-179.9134 80.9614,-189.6587 87.946,-190.1239\"/>\n",
       "</g>\n",
       "<!-- JP -->\n",
       "<g id=\"node3\" class=\"node\">\n",
       "<title>JP</title>\n",
       "<ellipse fill=\"none\" stroke=\"#000000\" cx=\"181.0456\" cy=\"-234\" rx=\"27\" ry=\"18\"/>\n",
       "<text text-anchor=\"middle\" x=\"181.0456\" y=\"-230.3\" font-family=\"Times,serif\" font-size=\"14.00\" fill=\"#000000\">JP</text>\n",
       "</g>\n",
       "<!-- JP&#45;&gt;Matthew -->\n",
       "<g id=\"edge5\" class=\"edge\">\n",
       "<title>JP&#45;&gt;Matthew</title>\n",
       "<path fill=\"none\" stroke=\"#000000\" d=\"M163.6927,-220.1177C151.1389,-210.0747 133.8984,-196.2823 119.363,-184.654\"/>\n",
       "<polygon fill=\"#000000\" stroke=\"#000000\" points=\"121.1684,-181.6161 111.1733,-178.1022 116.7955,-187.0822 121.1684,-181.6161\"/>\n",
       "</g>\n",
       "<!-- Jasmine -->\n",
       "<g id=\"node6\" class=\"node\">\n",
       "<title>Jasmine</title>\n",
       "<ellipse fill=\"none\" stroke=\"#000000\" cx=\"91.0456\" cy=\"-90\" rx=\"44.6926\" ry=\"18\"/>\n",
       "<text text-anchor=\"middle\" x=\"91.0456\" y=\"-86.3\" font-family=\"Times,serif\" font-size=\"14.00\" fill=\"#000000\">Jasmine</text>\n",
       "</g>\n",
       "<!-- JP&#45;&gt;Jasmine -->\n",
       "<g id=\"edge6\" class=\"edge\">\n",
       "<title>JP&#45;&gt;Jasmine</title>\n",
       "<path fill=\"none\" stroke=\"#000000\" d=\"M176.2229,-216.0637C170.6117,-197.1254 160.1459,-166.9003 145.0456,-144 137.747,-132.9315 127.9107,-122.2705 118.6329,-113.3876\"/>\n",
       "<polygon fill=\"#000000\" stroke=\"#000000\" points=\"120.7599,-110.5877 111.039,-106.3742 116.0107,-115.7301 120.7599,-110.5877\"/>\n",
       "</g>\n",
       "<!-- Matthew&#45;&gt;Michael -->\n",
       "<g id=\"edge8\" class=\"edge\">\n",
       "<title>Matthew&#45;&gt;Michael</title>\n",
       "<path fill=\"none\" stroke=\"#000000\" d=\"M96.9728,-179.9134C97.7467,-187.6993 97.9746,-197.01 97.6566,-205.6941\"/>\n",
       "<polygon fill=\"#000000\" stroke=\"#000000\" points=\"94.1538,-205.6254 96.998,-215.8314 101.1391,-206.0794 94.1538,-205.6254\"/>\n",
       "</g>\n",
       "<!-- Matthew&#45;&gt;Jasmine -->\n",
       "<g id=\"edge7\" class=\"edge\">\n",
       "<title>Matthew&#45;&gt;Jasmine</title>\n",
       "<path fill=\"none\" stroke=\"#000000\" d=\"M85.0932,-143.8314C84.3312,-136.0125 84.1152,-126.6923 84.4451,-118.0221\"/>\n",
       "<polygon fill=\"#000000\" stroke=\"#000000\" points=\"87.946,-118.1239 85.1183,-107.9134 80.9614,-117.6587 87.946,-118.1239\"/>\n",
       "</g>\n",
       "<!-- Marc&#45;&gt;Caroline -->\n",
       "<g id=\"edge10\" class=\"edge\">\n",
       "<title>Marc&#45;&gt;Caroline</title>\n",
       "<path fill=\"none\" stroke=\"#000000\" d=\"M52.4279,-36.2988C50.649,-46.6647 47.4774,-59.9347 46.0456,-72 36.6177,-151.4425 36.6177,-172.5575 46.0456,-252 47.0523,-260.4834 48.9192,-269.5624 50.5573,-277.8087\"/>\n",
       "<polygon fill=\"#000000\" stroke=\"#000000\" points=\"47.1307,-278.5257 52.4279,-287.7012 54.0089,-277.225 47.1307,-278.5257\"/>\n",
       "</g>\n",
       "<!-- Marc&#45;&gt;Jasmine -->\n",
       "<g id=\"edge9\" class=\"edge\">\n",
       "<title>Marc&#45;&gt;Jasmine</title>\n",
       "<path fill=\"none\" stroke=\"#000000\" d=\"M64.8495,-33.9568C70.6646,-42.4474 77.0251,-53.1213 82.161,-62.8699\"/>\n",
       "<polygon fill=\"#000000\" stroke=\"#000000\" points=\"79.0425,-64.4593 86.6519,-71.8314 85.3006,-61.323 79.0425,-64.4593\"/>\n",
       "</g>\n",
       "<!-- Jasmine&#45;&gt;Matthew -->\n",
       "<g id=\"edge12\" class=\"edge\">\n",
       "<title>Jasmine&#45;&gt;Matthew</title>\n",
       "<path fill=\"none\" stroke=\"#000000\" d=\"M96.9728,-107.9134C97.7467,-115.6993 97.9746,-125.01 97.6566,-133.6941\"/>\n",
       "<polygon fill=\"#000000\" stroke=\"#000000\" points=\"94.1538,-133.6254 96.998,-143.8314 101.1391,-134.0794 94.1538,-133.6254\"/>\n",
       "</g>\n",
       "<!-- Jasmine&#45;&gt;Marc -->\n",
       "<g id=\"edge11\" class=\"edge\">\n",
       "<title>Jasmine&#45;&gt;Marc</title>\n",
       "<path fill=\"none\" stroke=\"#000000\" d=\"M75.4892,-72.937C69.8426,-64.5785 63.76,-54.3159 58.8262,-44.9325\"/>\n",
       "<polygon fill=\"#000000\" stroke=\"#000000\" points=\"61.9357,-43.3252 54.334,-35.9453 55.6743,-46.455 61.9357,-43.3252\"/>\n",
       "</g>\n",
       "</g>\n",
       "</svg>\n"
      ],
      "text/plain": [
       "<graphviz.dot.Digraph at 0x7f0fe54342b0>"
      ]
     },
     "execution_count": 17,
     "metadata": {},
     "output_type": "execute_result"
    }
   ],
   "source": [
    "from graphviz import Digraph\n",
    "\n",
    "dot = Digraph()\n",
    "\n",
    "with graph.session() as session:\n",
    "    names = session.read_transaction(get_all_names) \n",
    "    for n in names:\n",
    "        dot.node(n) # add nodes\n",
    "\n",
    "with graph.session() as session:\n",
    "    for n in names:\n",
    "        results = session.run('MATCH (Person { name:$name })-[*1]->(p) RETURN p', name=n)\n",
    "        for r in results:\n",
    "            innerName = r['p']['name']\n",
    "            dot.edge(n, innerName) # add edges\n",
    "\n",
    "dot"
   ]
  },
  {
   "cell_type": "code",
   "execution_count": 18,
   "metadata": {},
   "outputs": [],
   "source": [
    "#close the db\n",
    "graph.close()"
   ]
  },
  {
   "cell_type": "code",
   "execution_count": null,
   "metadata": {},
   "outputs": [],
   "source": []
  }
 ],
 "metadata": {
  "kernelspec": {
   "display_name": "Python 3",
   "language": "python",
   "name": "python3"
  },
  "language_info": {
   "codemirror_mode": {
    "name": "ipython",
    "version": 3
   },
   "file_extension": ".py",
   "mimetype": "text/x-python",
   "name": "python",
   "nbconvert_exporter": "python",
   "pygments_lexer": "ipython3",
   "version": "3.6.9"
  }
 },
 "nbformat": 4,
 "nbformat_minor": 4
}
