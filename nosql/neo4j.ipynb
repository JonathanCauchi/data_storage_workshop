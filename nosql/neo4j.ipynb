{
 "cells": [
  {
   "cell_type": "code",
   "execution_count": 2,
   "metadata": {},
   "outputs": [],
   "source": [
    "from neo4j import GraphDatabase"
   ]
  },
  {
   "cell_type": "code",
   "execution_count": 3,
   "metadata": {},
   "outputs": [],
   "source": [
    "graph = GraphDatabase.driver(\"bolt://neo4j:7687\")"
   ]
  },
  {
   "cell_type": "code",
   "execution_count": 4,
   "metadata": {},
   "outputs": [],
   "source": [
    "# clear all existing nodes, should use this on a huge database (just delete the graphdb file)\n",
    "with graph.session() as session:\n",
    "    session.run(\"MATCH (n) DETACH DELETE n\")"
   ]
  },
  {
   "cell_type": "markdown",
   "metadata": {},
   "source": [
    "# Create Nodes"
   ]
  },
  {
   "cell_type": "code",
   "execution_count": 5,
   "metadata": {},
   "outputs": [],
   "source": [
    "def create_person(tx, name, email=None):\n",
    "    return tx.run(\"CREATE (a:Person {name:$name, email:$email}) \"\n",
    "                  \"RETURN id(a)\", name=name, email=email).single().value()\n",
    "\n",
    "with graph.session() as session:\n",
    "    # some nodes have extra attributes (e.g. email)\n",
    "    jp_node_id = session.write_transaction(create_person, \"JP\", \"jean.p.ebejer@um.edu.mt\")\n",
    "    matthew_node_id = session.write_transaction(create_person, \"Matthew\")\n",
    "    marc_node_id = session.write_transaction(create_person, \"Marc\")\n",
    "    jasmine_node_id = session.write_transaction(create_person, \"Jasmine\")    "
   ]
  },
  {
   "cell_type": "markdown",
   "metadata": {},
   "source": [
    "# Create Relationships"
   ]
  },
  {
   "cell_type": "code",
   "execution_count": 6,
   "metadata": {},
   "outputs": [],
   "source": [
    "# don't use internal Neo4j IDs  as not reccommended\n",
    "\n",
    "def create_lectures(tx, a_name, b_name):\n",
    "    return tx.run(\"MATCH (a:Person {name: $a_name})\"\n",
    "                  \"MATCH (b:Person {name: $b_name})\"\n",
    "                  \"CREATE (a)-[r:LECTURES]->(b)\"\n",
    "                  \"RETURN type(r)\", a_name=a_name, b_name=b_name).single().value()\n",
    "\n",
    "def create_friends_bidirectional(tx, a_name, b_name, expires=None):\n",
    "    return tx.run(\"MATCH (a:Person {name: $a_name})\"\n",
    "                  \"MATCH (b:Person {name: $b_name})\"\n",
    "                  \"CREATE (a)-[r1:FRIENDS { expires: $expires }]->(b)\"\n",
    "                  \"CREATE (a)<-[r2:FRIENDS { expires: $expires }]-(b)\" # looks silly but create only allows directional\n",
    "                  \"RETURN type(r1)\", a_name=a_name, b_name=b_name, expires=expires).single().value()\n",
    "\n",
    "with graph.session() as session:\n",
    "    session.write_transaction(create_lectures, \"JP\", \"Matthew\")    \n",
    "    session.write_transaction(create_lectures, \"JP\", \"Jasmine\")\n",
    "    session.write_transaction(create_friends_bidirectional, \"Jasmine\", \"Marc\")\n",
    "    session.write_transaction(create_friends_bidirectional, \"Jasmine\", \"Matthew\", \"Jan 2019\")"
   ]
  },
  {
   "cell_type": "markdown",
   "metadata": {},
   "source": [
    "You can have a look at the above graph via your web browser http://localhost:7474/browser/.  There is a helpful [Neo4j Cypher cheatsheet](https://neo4j.com/docs/pdf/neo4j-cypher-refcard-stable.pdf)."
   ]
  },
  {
   "cell_type": "code",
   "execution_count": 7,
   "metadata": {},
   "outputs": [
    {
     "name": "stdout",
     "output_type": "stream",
     "text": [
      "JP\n",
      "Matthew\n",
      "Marc\n",
      "Jasmine\n"
     ]
    }
   ],
   "source": [
    "def get_all_names(tx):\n",
    "    names = []\n",
    "    for record in tx.run(\"MATCH (p:Person) RETURN p.name AS name\"):\n",
    "        print(record['name'])\n",
    "        names.append(record['name'])\n",
    "    return names\n",
    "\n",
    "# Example of the cypher language\n",
    "with graph.session() as session:\n",
    "    session.read_transaction(get_all_names)    "
   ]
  },
  {
   "cell_type": "code",
   "execution_count": 8,
   "metadata": {},
   "outputs": [
    {
     "name": "stdout",
     "output_type": "stream",
     "text": [
      "JP jean.p.ebejer@um.edu.mt\n",
      "dict_keys(['name', 'email'])\n",
      "dict_values(['JP', 'jean.p.ebejer@um.edu.mt'])\n"
     ]
    }
   ],
   "source": [
    "  \n",
    "def match_person_node(tx, name):\n",
    "    result = tx.run(\"MATCH (a:Person {name: $name}) RETURN a\", name=name)\n",
    "    return result.single()[0]\n",
    "\n",
    "with graph.session() as session:\n",
    "    record = session.read_transaction(match_person_node, \"JP\")\n",
    "    print(record['name'], record['email'])\n",
    "    print(record.keys())\n",
    "    print(record.values())"
   ]
  },
  {
   "cell_type": "code",
   "execution_count": 9,
   "metadata": {},
   "outputs": [
    {
     "name": "stdout",
     "output_type": "stream",
     "text": [
      "LECTURES\n",
      "FRIENDS\n"
     ]
    }
   ],
   "source": [
    "with graph.session() as session:\n",
    "    rels = session.run(\"MATCH (n)-[r]-(m) RETURN distinct type(r) as r\")\n",
    "    for r in rels:\n",
    "        print(r['r'])"
   ]
  },
  {
   "cell_type": "code",
   "execution_count": 10,
   "metadata": {},
   "outputs": [
    {
     "name": "stdout",
     "output_type": "stream",
     "text": [
      "JP\n",
      "Matthew\n",
      "Marc\n",
      "Jasmine\n"
     ]
    }
   ],
   "source": [
    "with graph.session() as session:\n",
    "    record = session.run(\"START n=node(*) return n\")\n",
    "    for r in record:\n",
    "        print(r['n']['name'])"
   ]
  },
  {
   "cell_type": "code",
   "execution_count": 11,
   "metadata": {},
   "outputs": [
    {
     "name": "stdout",
     "output_type": "stream",
     "text": [
      "Jasmine\n",
      "Matthew\n"
     ]
    }
   ],
   "source": [
    "with graph.session() as session:\n",
    "    record = session.run(\"MATCH (a:Person)-[:LECTURES]->(s)\"\n",
    "                         \"WHERE a.name = {name} \"\n",
    "                         \"RETURN s.name as name\", name=\"JP\")\n",
    "    for r in record:\n",
    "        print(r['name'])"
   ]
  },
  {
   "cell_type": "code",
   "execution_count": 12,
   "metadata": {},
   "outputs": [
    {
     "name": "stdout",
     "output_type": "stream",
     "text": [
      "Matthew\n",
      "Marc\n"
     ]
    }
   ],
   "source": [
    "# from all of Jasmine friends ...\n",
    "with graph.session() as session:\n",
    "    results = session.run('MATCH (Person { name:\"Jasmine\" })-[:FRIENDS]->(x) RETURN x as jasmine_friend')\n",
    "    for jf in results:\n",
    "        print(jf['jasmine_friend']['name'])"
   ]
  },
  {
   "cell_type": "code",
   "execution_count": 13,
   "metadata": {},
   "outputs": [],
   "source": [
    "# add some more data\n",
    "with graph.session() as session:\n",
    "    # some nodes have extra attributes (e.g. email)\n",
    "    session.write_transaction(create_person, \"Caroline\")\n",
    "    session.write_transaction(create_person, \"Michael\")\n",
    "    session.write_transaction(create_friends_bidirectional, \"Marc\", \"Caroline\")\n",
    "    session.write_transaction(create_friends_bidirectional, \"Caroline\", \"Michael\")\n",
    "    session.write_transaction(create_friends_bidirectional, \"Michael\", \"Matthew\")"
   ]
  },
  {
   "cell_type": "code",
   "execution_count": 14,
   "metadata": {},
   "outputs": [
    {
     "name": "stdout",
     "output_type": "stream",
     "text": [
      "[<Node id=21 labels={'Person'} properties={'name': 'Marc'}>, <Node id=22 labels={'Person'} properties={'name': 'Jasmine'}>, <Node id=20 labels={'Person'} properties={'name': 'Matthew'}>]\n",
      "[<Node id=21 labels={'Person'} properties={'name': 'Marc'}>, <Node id=40 labels={'Person'} properties={'name': 'Caroline'}>, <Node id=41 labels={'Person'} properties={'name': 'Michael'}>, <Node id=20 labels={'Person'} properties={'name': 'Matthew'}>]\n"
     ]
    }
   ],
   "source": [
    "\n",
    "# Find all paths from Marc to Matthew\n",
    "with graph.session() as session:\n",
    "    results = session.run('MATCH p = ((p1:Person { name:\"Marc\" })-[r:FRIENDS*1..]->(p2:Person { name:\"Matthew\" })) '\n",
    "                          'WHERE ALL(x IN NODES(p) WHERE SINGLE(y IN NODES(p) WHERE y = x))'\n",
    "                          'RETURN nodes(p) as nodes, LENGTH(p) as length '\n",
    "                          'ORDER BY length')\n",
    "    for r in results:\n",
    "        print(r['nodes'])    \n",
    "        \n",
    "    "
   ]
  },
  {
   "cell_type": "code",
   "execution_count": 15,
   "metadata": {},
   "outputs": [
    {
     "name": "stdout",
     "output_type": "stream",
     "text": [
      "Marc\n",
      "Jasmine\n",
      "Matthew\n"
     ]
    }
   ],
   "source": [
    "# Find shortest paths from Marc to Matthew\n",
    "with graph.session() as session:\n",
    "    results = session.run('MATCH p = shortestpath((x)-[FRIENDS*1..]->(y)) '\n",
    "                          'WHERE x.name = \"Marc\" AND y.name = \"Matthew\" '\n",
    "                          'RETURN NODES(p) AS n ')\n",
    "    for r in results:\n",
    "        for n in r['n']:\n",
    "            print(n['name'])"
   ]
  },
  {
   "cell_type": "markdown",
   "metadata": {},
   "source": [
    "# Visualization (Attempt)"
   ]
  },
  {
   "cell_type": "code",
   "execution_count": 16,
   "metadata": {},
   "outputs": [
    {
     "name": "stdout",
     "output_type": "stream",
     "text": [
      "JP\n",
      "Matthew\n",
      "Marc\n",
      "Jasmine\n",
      "Caroline\n",
      "Michael\n"
     ]
    },
    {
     "data": {
      "image/svg+xml": [
       "<?xml version=\"1.0\" encoding=\"UTF-8\" standalone=\"no\"?>\n",
       "<!DOCTYPE svg PUBLIC \"-//W3C//DTD SVG 1.1//EN\"\n",
       " \"http://www.w3.org/Graphics/SVG/1.1/DTD/svg11.dtd\">\n",
       "<!-- Generated by graphviz version 2.40.1 (20161225.0304)\n",
       " -->\n",
       "<!-- Title: %3 Pages: 1 -->\n",
       "<svg width=\"180pt\" height=\"404pt\"\n",
       " viewBox=\"0.00 0.00 179.89 404.00\" xmlns=\"http://www.w3.org/2000/svg\" xmlns:xlink=\"http://www.w3.org/1999/xlink\">\n",
       "<g id=\"graph0\" class=\"graph\" transform=\"scale(1 1) rotate(0) translate(4 400)\">\n",
       "<title>%3</title>\n",
       "<polygon fill=\"#ffffff\" stroke=\"transparent\" points=\"-4,4 -4,-400 175.8916,-400 175.8916,4 -4,4\"/>\n",
       "<!-- JP -->\n",
       "<g id=\"node1\" class=\"node\">\n",
       "<title>JP</title>\n",
       "<ellipse fill=\"none\" stroke=\"#000000\" cx=\"90.0456\" cy=\"-378\" rx=\"27\" ry=\"18\"/>\n",
       "<text text-anchor=\"middle\" x=\"90.0456\" y=\"-374.3\" font-family=\"Times,serif\" font-size=\"14.00\" fill=\"#000000\">JP</text>\n",
       "</g>\n",
       "<!-- Matthew -->\n",
       "<g id=\"node2\" class=\"node\">\n",
       "<title>Matthew</title>\n",
       "<ellipse fill=\"none\" stroke=\"#000000\" cx=\"127.0456\" cy=\"-306\" rx=\"44.6926\" ry=\"18\"/>\n",
       "<text text-anchor=\"middle\" x=\"127.0456\" y=\"-302.3\" font-family=\"Times,serif\" font-size=\"14.00\" fill=\"#000000\">Matthew</text>\n",
       "</g>\n",
       "<!-- JP&#45;&gt;Matthew -->\n",
       "<g id=\"edge1\" class=\"edge\">\n",
       "<title>JP&#45;&gt;Matthew</title>\n",
       "<path fill=\"none\" stroke=\"#000000\" d=\"M98.814,-360.937C103.1415,-352.5161 108.462,-342.1627 113.3131,-332.7226\"/>\n",
       "<polygon fill=\"#000000\" stroke=\"#000000\" points=\"116.4959,-334.1865 117.9536,-323.6924 110.2699,-330.987 116.4959,-334.1865\"/>\n",
       "</g>\n",
       "<!-- Jasmine -->\n",
       "<g id=\"node4\" class=\"node\">\n",
       "<title>Jasmine</title>\n",
       "<ellipse fill=\"none\" stroke=\"#000000\" cx=\"54.0456\" cy=\"-234\" rx=\"44.6926\" ry=\"18\"/>\n",
       "<text text-anchor=\"middle\" x=\"54.0456\" y=\"-230.3\" font-family=\"Times,serif\" font-size=\"14.00\" fill=\"#000000\">Jasmine</text>\n",
       "</g>\n",
       "<!-- JP&#45;&gt;Jasmine -->\n",
       "<g id=\"edge2\" class=\"edge\">\n",
       "<title>JP&#45;&gt;Jasmine</title>\n",
       "<path fill=\"none\" stroke=\"#000000\" d=\"M83.9395,-360.1267C80.4875,-349.6689 76.2375,-336.1689 73.0456,-324 67.6517,-303.4364 62.7296,-279.9219 59.2473,-262.0864\"/>\n",
       "<polygon fill=\"#000000\" stroke=\"#000000\" points=\"62.6434,-261.2116 57.3223,-252.0499 55.7688,-262.5303 62.6434,-261.2116\"/>\n",
       "</g>\n",
       "<!-- Matthew&#45;&gt;Jasmine -->\n",
       "<g id=\"edge3\" class=\"edge\">\n",
       "<title>Matthew&#45;&gt;Jasmine</title>\n",
       "<path fill=\"none\" stroke=\"#000000\" d=\"M105.1245,-290.0209C94.836,-280.909 82.8065,-269.2881 72.9263,-258.9951\"/>\n",
       "<polygon fill=\"#000000\" stroke=\"#000000\" points=\"75.2454,-256.3512 65.8543,-251.4464 70.137,-261.1371 75.2454,-256.3512\"/>\n",
       "</g>\n",
       "<!-- Michael -->\n",
       "<g id=\"node6\" class=\"node\">\n",
       "<title>Michael</title>\n",
       "<ellipse fill=\"none\" stroke=\"#000000\" cx=\"93.0456\" cy=\"-18\" rx=\"44.6926\" ry=\"18\"/>\n",
       "<text text-anchor=\"middle\" x=\"93.0456\" y=\"-14.3\" font-family=\"Times,serif\" font-size=\"14.00\" fill=\"#000000\">Michael</text>\n",
       "</g>\n",
       "<!-- Matthew&#45;&gt;Michael -->\n",
       "<g id=\"edge4\" class=\"edge\">\n",
       "<title>Matthew&#45;&gt;Michael</title>\n",
       "<path fill=\"none\" stroke=\"#000000\" d=\"M122.1455,-287.9254C117.4585,-248.4175 114.7173,-151.537 100.0456,-72 98.4741,-63.4811 96.0741,-54.3913 93.9803,-46.1458\"/>\n",
       "<polygon fill=\"#000000\" stroke=\"#000000\" points=\"97.3402,-45.1501 91.5772,-36.2598 90.5383,-46.8036 97.3402,-45.1501\"/>\n",
       "</g>\n",
       "<!-- Marc -->\n",
       "<g id=\"node3\" class=\"node\">\n",
       "<title>Marc</title>\n",
       "<ellipse fill=\"none\" stroke=\"#000000\" cx=\"52.0456\" cy=\"-162\" rx=\"30.5947\" ry=\"18\"/>\n",
       "<text text-anchor=\"middle\" x=\"52.0456\" y=\"-158.3\" font-family=\"Times,serif\" font-size=\"14.00\" fill=\"#000000\">Marc</text>\n",
       "</g>\n",
       "<!-- Marc&#45;&gt;Jasmine -->\n",
       "<g id=\"edge5\" class=\"edge\">\n",
       "<title>Marc&#45;&gt;Jasmine</title>\n",
       "<path fill=\"none\" stroke=\"#000000\" d=\"M58.4704,-179.9134C59.4606,-187.6993 59.9471,-197.01 59.8703,-205.6941\"/>\n",
       "<polygon fill=\"#000000\" stroke=\"#000000\" points=\"56.3675,-205.7081 59.4933,-215.8314 63.3627,-205.9684 56.3675,-205.7081\"/>\n",
       "</g>\n",
       "<!-- Caroline -->\n",
       "<g id=\"node5\" class=\"node\">\n",
       "<title>Caroline</title>\n",
       "<ellipse fill=\"none\" stroke=\"#000000\" cx=\"50.0456\" cy=\"-90\" rx=\"50.0912\" ry=\"18\"/>\n",
       "<text text-anchor=\"middle\" x=\"50.0456\" y=\"-86.3\" font-family=\"Times,serif\" font-size=\"14.00\" fill=\"#000000\">Caroline</text>\n",
       "</g>\n",
       "<!-- Marc&#45;&gt;Caroline -->\n",
       "<g id=\"edge6\" class=\"edge\">\n",
       "<title>Marc&#45;&gt;Caroline</title>\n",
       "<path fill=\"none\" stroke=\"#000000\" d=\"M45.6355,-144.2022C44.6345,-136.3864 44.1428,-127.0171 44.221,-118.2836\"/>\n",
       "<polygon fill=\"#000000\" stroke=\"#000000\" points=\"47.7258,-118.2173 44.6031,-108.0931 40.7307,-117.9549 47.7258,-118.2173\"/>\n",
       "</g>\n",
       "<!-- Jasmine&#45;&gt;Matthew -->\n",
       "<g id=\"edge8\" class=\"edge\">\n",
       "<title>Jasmine&#45;&gt;Matthew</title>\n",
       "<path fill=\"none\" stroke=\"#000000\" d=\"M75.7588,-249.7951C86.0837,-258.9262 98.1967,-270.622 108.1387,-280.9777\"/>\n",
       "<polygon fill=\"#000000\" stroke=\"#000000\" points=\"105.8613,-283.6661 115.2525,-288.5708 110.9697,-278.8802 105.8613,-283.6661\"/>\n",
       "</g>\n",
       "<!-- Jasmine&#45;&gt;Marc -->\n",
       "<g id=\"edge7\" class=\"edge\">\n",
       "<title>Jasmine&#45;&gt;Marc</title>\n",
       "<path fill=\"none\" stroke=\"#000000\" d=\"M47.5885,-215.8314C46.6093,-208.0125 46.1344,-198.6923 46.2235,-190.0221\"/>\n",
       "<polygon fill=\"#000000\" stroke=\"#000000\" points=\"49.7253,-190.0417 46.6159,-179.9134 42.7305,-189.7701 49.7253,-190.0417\"/>\n",
       "</g>\n",
       "<!-- Caroline&#45;&gt;Marc -->\n",
       "<g id=\"edge9\" class=\"edge\">\n",
       "<title>Caroline&#45;&gt;Marc</title>\n",
       "<path fill=\"none\" stroke=\"#000000\" d=\"M56.4932,-108.0931C57.4813,-115.9477 57.9595,-125.3282 57.8669,-134.0453\"/>\n",
       "<polygon fill=\"#000000\" stroke=\"#000000\" points=\"54.3633,-134.0722 57.4669,-144.2022 61.3578,-134.3478 54.3633,-134.0722\"/>\n",
       "</g>\n",
       "<!-- Caroline&#45;&gt;Michael -->\n",
       "<g id=\"edge10\" class=\"edge\">\n",
       "<title>Caroline&#45;&gt;Michael</title>\n",
       "<path fill=\"none\" stroke=\"#000000\" d=\"M54.9439,-71.8314C59.2354,-63.2444 65.2668,-52.8466 71.3362,-43.4878\"/>\n",
       "<polygon fill=\"#000000\" stroke=\"#000000\" points=\"74.4208,-45.1738 77.1115,-34.9263 68.6176,-41.2592 74.4208,-45.1738\"/>\n",
       "</g>\n",
       "<!-- Michael&#45;&gt;Matthew -->\n",
       "<g id=\"edge12\" class=\"edge\">\n",
       "<title>Michael&#45;&gt;Matthew</title>\n",
       "<path fill=\"none\" stroke=\"#000000\" d=\"M107.0037,-35.2827C111.6497,-45.7698 115.7397,-59.4997 118.0456,-72 131.5997,-145.4785 134.9717,-233.759 132.486,-277.9316\"/>\n",
       "<polygon fill=\"#000000\" stroke=\"#000000\" points=\"128.9939,-277.6964 131.7541,-287.9254 135.9752,-278.2078 128.9939,-277.6964\"/>\n",
       "</g>\n",
       "<!-- Michael&#45;&gt;Caroline -->\n",
       "<g id=\"edge11\" class=\"edge\">\n",
       "<title>Michael&#45;&gt;Caroline</title>\n",
       "<path fill=\"none\" stroke=\"#000000\" d=\"M88.2587,-35.9453C83.9429,-44.6102 77.8272,-55.158 71.6797,-64.628\"/>\n",
       "<polygon fill=\"#000000\" stroke=\"#000000\" points=\"68.7657,-62.6893 66.0759,-72.937 74.5692,-66.6034 68.7657,-62.6893\"/>\n",
       "</g>\n",
       "</g>\n",
       "</svg>\n"
      ],
      "text/plain": [
       "<graphviz.dot.Digraph at 0x7f34d16530b8>"
      ]
     },
     "execution_count": 16,
     "metadata": {},
     "output_type": "execute_result"
    }
   ],
   "source": [
    "from graphviz import Digraph\n",
    "\n",
    "dot = Digraph()\n",
    "\n",
    "with graph.session() as session:\n",
    "    names = session.read_transaction(get_all_names) \n",
    "    for n in names:\n",
    "        dot.node(n) # add nodes\n",
    "\n",
    "with graph.session() as session:\n",
    "    for n in names:\n",
    "        results = session.run('MATCH (Person { name:$name })-[*1]->(p) RETURN p', name=n)\n",
    "        for r in results:\n",
    "            innerName = r['p']['name']\n",
    "            dot.edge(n, innerName) # add edges\n",
    "\n",
    "dot"
   ]
  },
  {
   "cell_type": "code",
   "execution_count": 17,
   "metadata": {},
   "outputs": [],
   "source": [
    "#close the db\n",
    "graph.close()"
   ]
  },
  {
   "cell_type": "code",
   "execution_count": null,
   "metadata": {},
   "outputs": [],
   "source": []
  }
 ],
 "metadata": {
  "kernelspec": {
   "display_name": "Python 3",
   "language": "python",
   "name": "python3"
  },
  "language_info": {
   "codemirror_mode": {
    "name": "ipython",
    "version": 3
   },
   "file_extension": ".py",
   "mimetype": "text/x-python",
   "name": "python",
   "nbconvert_exporter": "python",
   "pygments_lexer": "ipython3",
   "version": "3.6.9"
  }
 },
 "nbformat": 4,
 "nbformat_minor": 4
}
