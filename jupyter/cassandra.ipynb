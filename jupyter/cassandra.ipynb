{
 "cells": [
  {
   "cell_type": "code",
   "execution_count": 7,
   "metadata": {},
   "outputs": [],
   "source": [
    "from cassandra.cluster import Cluster\n",
    "import uuid"
   ]
  },
  {
   "cell_type": "code",
   "execution_count": 8,
   "metadata": {},
   "outputs": [
    {
     "data": {
      "text/plain": [
       "<cassandra.cluster.ResultSet at 0x7f250e626940>"
      ]
     },
     "execution_count": 8,
     "metadata": {},
     "output_type": "execute_result"
    }
   ],
   "source": [
    "# you need to connect first using sudo cassandra -f otherwise connection err\n",
    "cluster = Cluster(['cassandra']) # can support multiple IPs\n",
    "session = cluster.connect()\n",
    "keyspace = \"ict\"\n",
    "\n",
    "# this is for cleaning\n",
    "session.execute(\"DROP KEYSPACE IF EXISTS %s\" % keyspace)\n"
   ]
  },
  {
   "cell_type": "code",
   "execution_count": 9,
   "metadata": {},
   "outputs": [
    {
     "data": {
      "text/plain": [
       "<cassandra.cluster.ResultSet at 0x7f250e655668>"
      ]
     },
     "execution_count": 9,
     "metadata": {},
     "output_type": "execute_result"
    }
   ],
   "source": [
    "# create the ict keyspace\n",
    "session.execute(\"\"\"\n",
    "        CREATE KEYSPACE %s\n",
    "        WITH replication = { 'class': 'SimpleStrategy', 'replication_factor': '1' }\n",
    "        \"\"\" % keyspace)"
   ]
  },
  {
   "cell_type": "code",
   "execution_count": 10,
   "metadata": {},
   "outputs": [],
   "source": [
    "# use it \n",
    "session.set_keyspace(keyspace)"
   ]
  },
  {
   "cell_type": "code",
   "execution_count": 11,
   "metadata": {},
   "outputs": [
    {
     "data": {
      "text/plain": [
       "<cassandra.cluster.ResultSet at 0x7f250c5c26d8>"
      ]
     },
     "execution_count": 11,
     "metadata": {},
     "output_type": "execute_result"
    }
   ],
   "source": [
    "# remove the data stores if this already exists (perhaps a previous run)\n",
    "session.execute(\"drop table if exists student\")\n",
    "session.execute(\"\"\"\n",
    "        CREATE TABLE student (\n",
    "            studid uuid,\n",
    "            name text,\n",
    "            surname text,\n",
    "            email text,\n",
    "            PRIMARY KEY (studid)\n",
    "        )\n",
    "        \"\"\")"
   ]
  },
  {
   "cell_type": "code",
   "execution_count": 12,
   "metadata": {},
   "outputs": [
    {
     "data": {
      "text/plain": [
       "<cassandra.cluster.ResultSet at 0x7f250c5c5b00>"
      ]
     },
     "execution_count": 12,
     "metadata": {},
     "output_type": "execute_result"
    }
   ],
   "source": [
    "# uuid is generated from python module with same name\n",
    "session.execute(\n",
    "    \"\"\"\n",
    "    INSERT INTO student (name, surname, email, studid)\n",
    "    VALUES (%s, %s, %s, %s)\n",
    "    \"\"\",\n",
    "    (\"Yurgen\", \"Schembri\", \"ys@facebook.com\", uuid.uuid1())\n",
    ")"
   ]
  },
  {
   "cell_type": "code",
   "execution_count": 13,
   "metadata": {},
   "outputs": [
    {
     "name": "stdout",
     "output_type": "stream",
     "text": [
      "Yurgen Schembri ys@facebook.com\n"
     ]
    }
   ],
   "source": [
    "# get the student and pri\n",
    "rows = session.execute('SELECT studid, name, surname, email FROM student')\n",
    "for stud in rows:\n",
    "    print(stud.name, stud.surname, stud.email)"
   ]
  },
  {
   "cell_type": "code",
   "execution_count": 14,
   "metadata": {},
   "outputs": [
    {
     "name": "stdout",
     "output_type": "stream",
     "text": [
      "Yurgen Schembri d9744e2a-1576-11e8-a114-0242ac110005\n"
     ]
    }
   ],
   "source": [
    "## async\n",
    "\n",
    "def handle_success(rows):\n",
    "    stud = rows[0]\n",
    "    print(stud.name, stud.surname, stud.studid)\n",
    "\n",
    "def handle_error(exception):\n",
    "    print(exception)\n",
    "\n",
    "# sometimes (mostly the first time) nothing is shown here.  Why?  hint: async\n",
    "future = session.execute_async('SELECT studid, name, surname, email FROM student')\n",
    "future.add_callbacks(handle_success, handle_error)"
   ]
  },
  {
   "cell_type": "markdown",
   "metadata": {},
   "source": [
    "Doing a delete without specifying the primary key would mean Cassandra would have to first do the distributed search to get all of the records. Then internally issue the delete for all of those records. While it would be possible to implement, it is very different from the current write path inside Cassandra.  Good to know limitations."
   ]
  },
  {
   "cell_type": "code",
   "execution_count": 16,
   "metadata": {},
   "outputs": [
    {
     "ename": "InvalidRequest",
     "evalue": "Error from server: code=2200 [Invalid query] message=\"Some partition key parts are missing: studid\"",
     "output_type": "error",
     "traceback": [
      "\u001b[0;31m---------------------------------------------------------------------------\u001b[0m",
      "\u001b[0;31mInvalidRequest\u001b[0m                            Traceback (most recent call last)",
      "\u001b[0;32m<ipython-input-16-28a9a0fe58a7>\u001b[0m in \u001b[0;36m<module>\u001b[0;34m()\u001b[0m\n\u001b[0;32m----> 1\u001b[0;31m \u001b[0msession\u001b[0m\u001b[0;34m.\u001b[0m\u001b[0mexecute\u001b[0m\u001b[0;34m(\u001b[0m\u001b[0;34m\"delete from student where name = 'Yurgen'\"\u001b[0m\u001b[0;34m)\u001b[0m \u001b[0;31m# this does not work, why?\u001b[0m\u001b[0;34m\u001b[0m\u001b[0m\n\u001b[0m",
      "\u001b[0;32m/opt/conda/envs/py35/lib/python3.5/site-packages/cassandra/cluster.py\u001b[0m in \u001b[0;36mexecute\u001b[0;34m(self, query, parameters, timeout, trace, custom_payload, execution_profile, paging_state)\u001b[0m\n\u001b[1;32m   2132\u001b[0m         \u001b[0;31m`\u001b[0m\u001b[0mpaging_state\u001b[0m\u001b[0;31m`\u001b[0m \u001b[0;32mis\u001b[0m \u001b[0man\u001b[0m \u001b[0moptional\u001b[0m \u001b[0mpaging\u001b[0m \u001b[0mstate\u001b[0m\u001b[0;34m,\u001b[0m \u001b[0mreused\u001b[0m \u001b[0;32mfrom\u001b[0m \u001b[0ma\u001b[0m \u001b[0mprevious\u001b[0m \u001b[0;34m:\u001b[0m\u001b[0;32mclass\u001b[0m\u001b[0;34m:\u001b[0m\u001b[0;31m`\u001b[0m\u001b[0mResultSet\u001b[0m\u001b[0;31m`\u001b[0m\u001b[0;34m.\u001b[0m\u001b[0;34m\u001b[0m\u001b[0m\n\u001b[1;32m   2133\u001b[0m         \"\"\"\n\u001b[0;32m-> 2134\u001b[0;31m         \u001b[0;32mreturn\u001b[0m \u001b[0mself\u001b[0m\u001b[0;34m.\u001b[0m\u001b[0mexecute_async\u001b[0m\u001b[0;34m(\u001b[0m\u001b[0mquery\u001b[0m\u001b[0;34m,\u001b[0m \u001b[0mparameters\u001b[0m\u001b[0;34m,\u001b[0m \u001b[0mtrace\u001b[0m\u001b[0;34m,\u001b[0m \u001b[0mcustom_payload\u001b[0m\u001b[0;34m,\u001b[0m \u001b[0mtimeout\u001b[0m\u001b[0;34m,\u001b[0m \u001b[0mexecution_profile\u001b[0m\u001b[0;34m,\u001b[0m \u001b[0mpaging_state\u001b[0m\u001b[0;34m)\u001b[0m\u001b[0;34m.\u001b[0m\u001b[0mresult\u001b[0m\u001b[0;34m(\u001b[0m\u001b[0;34m)\u001b[0m\u001b[0;34m\u001b[0m\u001b[0m\n\u001b[0m\u001b[1;32m   2135\u001b[0m \u001b[0;34m\u001b[0m\u001b[0m\n\u001b[1;32m   2136\u001b[0m     \u001b[0;32mdef\u001b[0m \u001b[0mexecute_async\u001b[0m\u001b[0;34m(\u001b[0m\u001b[0mself\u001b[0m\u001b[0;34m,\u001b[0m \u001b[0mquery\u001b[0m\u001b[0;34m,\u001b[0m \u001b[0mparameters\u001b[0m\u001b[0;34m=\u001b[0m\u001b[0;32mNone\u001b[0m\u001b[0;34m,\u001b[0m \u001b[0mtrace\u001b[0m\u001b[0;34m=\u001b[0m\u001b[0;32mFalse\u001b[0m\u001b[0;34m,\u001b[0m \u001b[0mcustom_payload\u001b[0m\u001b[0;34m=\u001b[0m\u001b[0;32mNone\u001b[0m\u001b[0;34m,\u001b[0m \u001b[0mtimeout\u001b[0m\u001b[0;34m=\u001b[0m\u001b[0m_NOT_SET\u001b[0m\u001b[0;34m,\u001b[0m \u001b[0mexecution_profile\u001b[0m\u001b[0;34m=\u001b[0m\u001b[0mEXEC_PROFILE_DEFAULT\u001b[0m\u001b[0;34m,\u001b[0m \u001b[0mpaging_state\u001b[0m\u001b[0;34m=\u001b[0m\u001b[0;32mNone\u001b[0m\u001b[0;34m)\u001b[0m\u001b[0;34m:\u001b[0m\u001b[0;34m\u001b[0m\u001b[0m\n",
      "\u001b[0;32m/opt/conda/envs/py35/lib/python3.5/site-packages/cassandra/cluster.py\u001b[0m in \u001b[0;36mresult\u001b[0;34m(self)\u001b[0m\n\u001b[1;32m   4024\u001b[0m             \u001b[0;32mreturn\u001b[0m \u001b[0mResultSet\u001b[0m\u001b[0;34m(\u001b[0m\u001b[0mself\u001b[0m\u001b[0;34m,\u001b[0m \u001b[0mself\u001b[0m\u001b[0;34m.\u001b[0m\u001b[0m_final_result\u001b[0m\u001b[0;34m)\u001b[0m\u001b[0;34m\u001b[0m\u001b[0m\n\u001b[1;32m   4025\u001b[0m         \u001b[0;32melse\u001b[0m\u001b[0;34m:\u001b[0m\u001b[0;34m\u001b[0m\u001b[0m\n\u001b[0;32m-> 4026\u001b[0;31m             \u001b[0;32mraise\u001b[0m \u001b[0mself\u001b[0m\u001b[0;34m.\u001b[0m\u001b[0m_final_exception\u001b[0m\u001b[0;34m\u001b[0m\u001b[0m\n\u001b[0m\u001b[1;32m   4027\u001b[0m \u001b[0;34m\u001b[0m\u001b[0m\n\u001b[1;32m   4028\u001b[0m     \u001b[0;32mdef\u001b[0m \u001b[0mget_query_trace_ids\u001b[0m\u001b[0;34m(\u001b[0m\u001b[0mself\u001b[0m\u001b[0;34m)\u001b[0m\u001b[0;34m:\u001b[0m\u001b[0;34m\u001b[0m\u001b[0m\n",
      "\u001b[0;31mInvalidRequest\u001b[0m: Error from server: code=2200 [Invalid query] message=\"Some partition key parts are missing: studid\""
     ]
    }
   ],
   "source": [
    "session.execute(\"delete from student where name = 'Yurgen'\") # this does not work, why?"
   ]
  },
  {
   "cell_type": "code",
   "execution_count": 17,
   "metadata": {},
   "outputs": [
    {
     "name": "stdout",
     "output_type": "stream",
     "text": [
      "d9744e2a-1576-11e8-a114-0242ac110005\n"
     ]
    }
   ],
   "source": [
    "result = session.execute(\"select * from student\")\n",
    "for r in result:\n",
    "    print(r.studid)"
   ]
  },
  {
   "cell_type": "code",
   "execution_count": 18,
   "metadata": {},
   "outputs": [
    {
     "data": {
      "text/plain": [
       "<cassandra.cluster.ResultSet at 0x7f250c5cceb8>"
      ]
     },
     "execution_count": 18,
     "metadata": {},
     "output_type": "execute_result"
    }
   ],
   "source": [
    "session.execute(\"delete from student where studid = %s\" % r.studid) # this works"
   ]
  },
  {
   "cell_type": "code",
   "execution_count": 19,
   "metadata": {},
   "outputs": [],
   "source": [
    "result = session.execute(\"select * from student\") # Darren, gone with the wind\n",
    "for r in result:\n",
    "    print(r.studid)"
   ]
  }
 ],
 "metadata": {
  "kernelspec": {
   "display_name": "Python 3",
   "language": "python",
   "name": "python3"
  },
  "language_info": {
   "codemirror_mode": {
    "name": "ipython",
    "version": 3
   },
   "file_extension": ".py",
   "mimetype": "text/x-python",
   "name": "python",
   "nbconvert_exporter": "python",
   "pygments_lexer": "ipython3",
   "version": "3.5.4"
  }
 },
 "nbformat": 4,
 "nbformat_minor": 1
}
