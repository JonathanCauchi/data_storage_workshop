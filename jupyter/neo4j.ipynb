{
 "cells": [
  {
   "cell_type": "code",
   "execution_count": 8,
   "metadata": {},
   "outputs": [],
   "source": [
    "from py2neo import Graph, Node, Relationship, Path # import or necessary classes"
   ]
  },
  {
   "cell_type": "code",
   "execution_count": 9,
   "metadata": {},
   "outputs": [],
   "source": [
    "graph = Graph(\"http://neo4j:7474/db/data/\") # namespace for our db (neo4j stores everything there)\n",
    "graph.delete_all()"
   ]
  },
  {
   "cell_type": "code",
   "execution_count": 10,
   "metadata": {},
   "outputs": [],
   "source": [
    "# the data\n",
    "jp = Node(\"Person\", name=\"JP\", email=\"jean.p.ebejer@um.edu.mt\")\n",
    "charlene = Node(\"Person\", name=\"Charlene\")\n",
    "james = Node(\"Person\", name=\"James\")\n",
    "jo = Node(\"Person\", name=\"Joseph\")\n",
    "jp_lect_charlene = Relationship(jp, \"LECTURES\", charlene)\n",
    "jp_lect_james = Relationship(jp, \"LECTURES\", james)\n",
    "james_friend_charlene = Relationship(james, \"FRIEND\", charlene)\n",
    "james_friend_jo = Relationship(james, \"FRIEND\", jo, until=\"Mar 2016\")"
   ]
  },
  {
   "cell_type": "code",
   "execution_count": 11,
   "metadata": {},
   "outputs": [],
   "source": [
    "# create the graph\n",
    "graph.create(jp)\n",
    "graph.create(charlene)\n",
    "graph.create(james)\n",
    "graph.create(jo)\n",
    "graph.create(jp_lect_charlene)\n",
    "graph.create(jp_lect_james)\n",
    "graph.create(james_friend_charlene)\n",
    "graph.create(james_friend_jo)"
   ]
  },
  {
   "cell_type": "markdown",
   "metadata": {},
   "source": [
    "You can find a really useful tool at `http://[docker container id]:7474/browser/`.  You can find out the docker container id by using `docker inspect <containerId>`."
   ]
  },
  {
   "cell_type": "code",
   "execution_count": 14,
   "metadata": {},
   "outputs": [
    {
     "name": "stdout",
     "output_type": "stream",
     "text": [
      "JP\n",
      "Charlene\n",
      "James\n",
      "Joseph\n"
     ]
    }
   ],
   "source": [
    "# Example of the cypher language\n",
    "for record in graph.run(\"MATCH (p:Person) RETURN p.name AS name\"):\n",
    "    print(record['name'])"
   ]
  },
  {
   "cell_type": "code",
   "execution_count": 16,
   "metadata": {},
   "outputs": [
    {
     "data": {
      "text/plain": [
       "{'email': 'jean.p.ebejer@um.edu.mt', 'name': 'JP'}"
      ]
     },
     "execution_count": 16,
     "metadata": {},
     "output_type": "execute_result"
    }
   ],
   "source": [
    "dict(jp) # props of a node"
   ]
  },
  {
   "cell_type": "code",
   "execution_count": 17,
   "metadata": {},
   "outputs": [
    {
     "data": {
      "text/plain": [
       "frozenset({'FRIEND', 'LECTURES'})"
      ]
     },
     "execution_count": 17,
     "metadata": {},
     "output_type": "execute_result"
    }
   ],
   "source": [
    "graph.relationship_types # edge types"
   ]
  },
  {
   "cell_type": "code",
   "execution_count": 20,
   "metadata": {},
   "outputs": [
    {
     "name": "stdout",
     "output_type": "stream",
     "text": [
      "JP\n",
      "Charlene\n",
      "James\n",
      "Joseph\n"
     ]
    }
   ],
   "source": [
    "cur = graph.run(\"START n=node(*) return n\") # return all nodes\n",
    "for record in cur:\n",
    "    print(record['n']['name'])"
   ]
  },
  {
   "cell_type": "code",
   "execution_count": 21,
   "metadata": {},
   "outputs": [
    {
     "name": "stdout",
     "output_type": "stream",
     "text": [
      "James\n",
      "Charlene\n"
     ]
    }
   ],
   "source": [
    "# who does JP lecture ?\n",
    "for n in graph.match(start_node=jp, rel_type=\"LECTURES\"):\n",
    "    print(n.end_node()['name'])"
   ]
  },
  {
   "cell_type": "code",
   "execution_count": 23,
   "metadata": {},
   "outputs": [],
   "source": [
    "# Between Joseph and Charlene there is no edge...\n",
    "for n in graph.match(start_node=jo, end_node=charlene, bidirectional=True):\n",
    "    print(n)"
   ]
  },
  {
   "cell_type": "code",
   "execution_count": 28,
   "metadata": {},
   "outputs": [
    {
     "name": "stdout",
     "output_type": "stream",
     "text": [
      "('x': (james:Person {name:\"James\"}))\n",
      "('x': (charlene:Person {name:\"Charlene\"}))\n"
     ]
    }
   ],
   "source": [
    "# from Jo traverse all FRIEND paths (bidirectional)\n",
    "# cycles are considered once\n",
    "n = graph.run('MATCH (Person { name:\"Joseph\" })-[:FRIEND*1..]-(x) RETURN x')\n",
    "for c in n:\n",
    "    print(c)"
   ]
  }
 ],
 "metadata": {
  "kernelspec": {
   "display_name": "Python 3",
   "language": "python",
   "name": "python3"
  },
  "language_info": {
   "codemirror_mode": {
    "name": "ipython",
    "version": 3
   },
   "file_extension": ".py",
   "mimetype": "text/x-python",
   "name": "python",
   "nbconvert_exporter": "python",
   "pygments_lexer": "ipython3",
   "version": "3.5.4"
  }
 },
 "nbformat": 4,
 "nbformat_minor": 1
}
