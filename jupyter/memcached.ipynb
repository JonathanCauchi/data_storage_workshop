{
 "cells": [
  {
   "cell_type": "code",
   "execution_count": null,
   "metadata": {},
   "outputs": [],
   "source": [
    "import memcache"
   ]
  },
  {
   "cell_type": "markdown",
   "metadata": {},
   "source": [
    "You can ```$ telnet localhost 11211``` and issue commands like:\n",
    "\n",
    "set takes 5 params, `<key> <flags> <exptime> <bytes> [noreply]\\r\\n<value>\\r\\n`\n",
    "\n",
    "```\n",
    "set k 0 900 4\n",
    "abcd\n",
    "```\n",
    "\n",
    "```\n",
    "get k\n",
    "```\n",
    "\n",
    "```\n",
    "stats\n",
    "```\n",
    "\n",
    "Warning: no official way how to get *all* keys through python API...\n"
   ]
  },
  {
   "cell_type": "code",
   "execution_count": null,
   "metadata": {},
   "outputs": [],
   "source": [
    "# connect\n",
    "mc = memcache.Client(['memcache:11211'], debug=1) # on which machine is memcache running"
   ]
  },
  {
   "cell_type": "code",
   "execution_count": null,
   "metadata": {},
   "outputs": [],
   "source": [
    "mc.set(\"some_key\", \"Some value\") # key value pair\n",
    "value = mc.get(\"some_key\")\n",
    "print(value)"
   ]
  },
  {
   "cell_type": "code",
   "execution_count": null,
   "metadata": {},
   "outputs": [],
   "source": [
    "mc.set(\"another_key\", 3)\n",
    "mc.delete(\"another_key\") "
   ]
  },
  {
   "cell_type": "code",
   "execution_count": null,
   "metadata": {},
   "outputs": [],
   "source": [
    "dir(mc) # show us what (methods, classes etc.) is contained in the client\n",
    "## Please note !\n",
    "## In the general case, there is no way to list all the keys that a \n",
    "## memcached instance is storing. "
   ]
  },
  {
   "cell_type": "code",
   "execution_count": null,
   "metadata": {},
   "outputs": [],
   "source": [
    "mc.stats"
   ]
  },
  {
   "cell_type": "code",
   "execution_count": null,
   "metadata": {},
   "outputs": [],
   "source": [
    "mc.set(\"key\", 1)   # note that the key used for incr/decr must be a string.\n",
    "mc.incr(\"key\")"
   ]
  },
  {
   "cell_type": "code",
   "execution_count": null,
   "metadata": {},
   "outputs": [],
   "source": [
    "mc.decr(\"key\")"
   ]
  },
  {
   "cell_type": "code",
   "execution_count": null,
   "metadata": {},
   "outputs": [],
   "source": [
    "mc.get_stats()"
   ]
  }
 ],
 "metadata": {
  "kernelspec": {
   "display_name": "Python 3",
   "language": "python",
   "name": "python3"
  },
  "language_info": {
   "codemirror_mode": {
    "name": "ipython",
    "version": 3
   },
   "file_extension": ".py",
   "mimetype": "text/x-python",
   "name": "python",
   "nbconvert_exporter": "python",
   "pygments_lexer": "ipython3",
   "version": "3.5.4"
  }
 },
 "nbformat": 4,
 "nbformat_minor": 1
}
